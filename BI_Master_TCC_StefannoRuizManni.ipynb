{
 "cells": [
  {
   "cell_type": "markdown",
   "id": "6e14b34d",
   "metadata": {},
   "source": [
    "# TCC Master BI: Mensurando o Impacto da Presença de Torcida nas Chances de Vitoria do Time da Casa em uma Partida da NBA\n",
    "\n",
    "## Aluno: Stefanno Ruiz Manni\n",
    "## Matricula: 201.110.695\n",
    "\n",
    "## Orientadora: Prof. Manoela Kohler\n",
    "## Co-Orientador: Prof. Felipe Borges\n",
    "\n",
    "### Caso a ser estudado:\n",
    "\n",
    "A NBA (National Basketball Association) é a principal liga de basquete do mundo, disputada nos Estados Unidos e que vem se expandindo internacionalmente ao longo dos ultimos anos.\n",
    "\n",
    "Devido à grande cultura de dados, enraizada nos esportes estadunidenses, temos a nossa disposição uma infinidade de dados que nos possibilitam entender o jogo nos mínimos detalhes. \n",
    "\n",
    "Com a Pandemia do COVID19 surgiram algumas situações únicas que, pela primeira vez, nos permitem mensurar o real impacto que a presença de torcida possui, uma vez que tivemos um número significativo de jogos em quadra neutra.\n",
    "\n",
    "Esse trabalho visa a criação de modelos de classificacao para a previsão do vencedor de uma partida da NBA e com esses modelos ser capaz de mensurar o real impacto da presenca de torcida em termos de aumentar as chances de vitoria do time da casa. Isso será feito a partir da análise do coeficiente da variavel que indica presenca de torcida.\n",
    "\n",
    "Vamos utilizar duas abordagens:\n",
    "\n",
    "1. Utilizar dados de três temporadas sem pandemia e criar a variavél ocupação (indicando quanto da capacidade da arena foi ocupada pelo publico) e entender seu impacto. E esperado que quanto maior o público presente maior as chances de vitoria do time da casa.\n",
    "\n",
    "2. Utilizar dados da temporada 2019-2020 na qual a pandemia comecou e tivemos a realizacao da bolha da NBA. Os ultimos dez jogos de cada time naquela temporada regular foi realizada em quadra neutra. Com esses dados iremos criar a variavel presenca de publico (indicando se a partida foi realizada sem ou com torcida) e vamos analisar seu impacto nas chances de vitoria do time da casa. E esperado que essa variavel tenha impacto positivo nas chances de vitoria do time da casa.\n",
    "\n",
    "A base de dados será construida a partir dos dados dos jogos das seguintes temporadas regulares da NBA:\n",
    "\n",
    "2016-17  <br />\n",
    "2017-18  <br />\n",
    "2018-19  <br />\n",
    "2019-20 --> temporada da bolha da NBA  <br />\n",
    "2020-21 --> temporada com jogos sem torcida e publico limitado\n",
    "\n",
    "\n",
    "Vamos retirar esses dados do site basketball-reference.com. Vamos tambem retirar os dados de capacidade maxima de cada arena para calculo da ocupacao das arenas nos jogos.\n"
   ]
  },
  {
   "cell_type": "code",
   "execution_count": 2,
   "id": "231f2c33",
   "metadata": {},
   "outputs": [],
   "source": [
    "#Carrega pacotes\n",
    "library(rvest)\n",
    "library(lubridate)\n",
    "library(purrr)\n",
    "library(ggplot2)\n",
    "library(dplyr)\n",
    "library(rpart)\n",
    "library(e1071)\n",
    "library(repr)\n",
    "library(rpart)\n",
    "library(xgboost)\n",
    "library(randomForest)\n",
    "library(caret)\n",
    "options(repr.plot.width=5, repr.plot.height=4)"
   ]
  },
  {
   "cell_type": "code",
   "execution_count": 3,
   "id": "9f8bc697",
   "metadata": {},
   "outputs": [
    {
     "data": {
      "text/html": [
       "'C:/Users/stefanno.ruiz.manni/OneDrive - Accenture/Faculdade - Pessoal/Pos_PUC-RIO/Materias/DataMining/Projeto/Code'"
      ],
      "text/latex": [
       "'C:/Users/stefanno.ruiz.manni/OneDrive - Accenture/Faculdade - Pessoal/Pos\\_PUC-RIO/Materias/DataMining/Projeto/Code'"
      ],
      "text/markdown": [
       "'C:/Users/stefanno.ruiz.manni/OneDrive - Accenture/Faculdade - Pessoal/Pos_PUC-RIO/Materias/DataMining/Projeto/Code'"
      ],
      "text/plain": [
       "[1] \"C:/Users/stefanno.ruiz.manni/OneDrive - Accenture/Faculdade - Pessoal/Pos_PUC-RIO/Materias/DataMining/Projeto/Code\""
      ]
     },
     "metadata": {},
     "output_type": "display_data"
    }
   ],
   "source": [
    "#verifica diretorio de trabalho\n",
    "getwd()"
   ]
  },
  {
   "cell_type": "code",
   "execution_count": 4,
   "id": "5b2b9b09",
   "metadata": {},
   "outputs": [],
   "source": [
    "#Carrega Funcoes Auxiliares\n",
    "source('Funcoes_Aux_TCC.R')"
   ]
  },
  {
   "cell_type": "markdown",
   "id": "3af07224",
   "metadata": {},
   "source": [
    "# 1.Carregando Dados\n",
    "\n",
    "Buscando os dados do jogos no site basketball-reference.com e lendo CSV contendo capacidade maxima das arenas"
   ]
  },
  {
   "cell_type": "code",
   "execution_count": 5,
   "id": "91227fde",
   "metadata": {},
   "outputs": [],
   "source": [
    "##CARREGANDO OS DADOS ##\n",
    "\n",
    "#url onde buscar os dados dos jogos da NBA\n",
    "url <- \"https://www.basketball-reference.com/leagues/NBA_\"\n",
    "\n",
    "#anos para buscar os dados\n",
    "anos <- c('2017','2018','2019','2020','2021')\n",
    "\n",
    "#meses para buscar os dados\n",
    "meses <- c('october', 'november', 'december', 'january',\n",
    "           'february', 'march', 'april','may', 'june',\n",
    "           'july','august','september')\n",
    "\n",
    "#Obtendo os dados dos jogos:\n",
    "df <- get_matches(years = anos, months = meses, URL = url)\n",
    "\n",
    "#Obtendo dados das arenas:\n",
    "df_arenas <- read.csv('Data//Arenas.csv', sep = ';')\n",
    "\n",
    "#Carrega dados de capacidade maxima das arenas\n",
    "\n",
    "## FIM DO CARREGAMENTO DOS DADOS ##\n"
   ]
  },
  {
   "cell_type": "code",
   "execution_count": 6,
   "id": "9944876d",
   "metadata": {},
   "outputs": [
    {
     "data": {
      "text/html": [
       "<table class=\"dataframe\">\n",
       "<caption>A data.frame: 6 × 13</caption>\n",
       "<thead>\n",
       "\t<tr><th></th><th scope=col>game_id</th><th scope=col>date_game</th><th scope=col>game_start_time</th><th scope=col>visitor_team_name</th><th scope=col>visitor_pts</th><th scope=col>home_team_name</th><th scope=col>home_pts</th><th scope=col>box_score_text</th><th scope=col>overtimes</th><th scope=col>attendance</th><th scope=col>game_remarks</th><th scope=col>FLAG_PLAYOFFS</th><th scope=col>SEASON</th></tr>\n",
       "\t<tr><th></th><th scope=col>&lt;chr&gt;</th><th scope=col>&lt;date&gt;</th><th scope=col>&lt;chr&gt;</th><th scope=col>&lt;chr&gt;</th><th scope=col>&lt;dbl&gt;</th><th scope=col>&lt;chr&gt;</th><th scope=col>&lt;dbl&gt;</th><th scope=col>&lt;chr&gt;</th><th scope=col>&lt;chr&gt;</th><th scope=col>&lt;dbl&gt;</th><th scope=col>&lt;chr&gt;</th><th scope=col>&lt;dbl&gt;</th><th scope=col>&lt;chr&gt;</th></tr>\n",
       "</thead>\n",
       "<tbody>\n",
       "\t<tr><th scope=row>1</th><td>201610250CLE</td><td>2016-10-25</td><td>7:30p </td><td>New York Knicks  </td><td> 88</td><td>Cleveland Cavaliers   </td><td>117</td><td>Box Score</td><td>  </td><td>20562</td><td></td><td>0</td><td>2017</td></tr>\n",
       "\t<tr><th scope=row>2</th><td>201610250POR</td><td>2016-10-25</td><td>10:00p</td><td>Utah Jazz        </td><td>104</td><td>Portland Trail Blazers</td><td>113</td><td>Box Score</td><td>  </td><td>19446</td><td></td><td>0</td><td>2017</td></tr>\n",
       "\t<tr><th scope=row>3</th><td>201610250GSW</td><td>2016-10-25</td><td>10:30p</td><td>San Antonio Spurs</td><td>129</td><td>Golden State Warriors </td><td>100</td><td>Box Score</td><td>  </td><td>19596</td><td></td><td>0</td><td>2017</td></tr>\n",
       "\t<tr><th scope=row>4</th><td>201610260IND</td><td>2016-10-26</td><td>7:00p </td><td>Dallas Mavericks </td><td>121</td><td>Indiana Pacers        </td><td>130</td><td>Box Score</td><td>OT</td><td>17923</td><td></td><td>0</td><td>2017</td></tr>\n",
       "\t<tr><th scope=row>5</th><td>201610260ORL</td><td>2016-10-26</td><td>7:00p </td><td>Miami Heat       </td><td>108</td><td>Orlando Magic         </td><td> 96</td><td>Box Score</td><td>  </td><td>19298</td><td></td><td>0</td><td>2017</td></tr>\n",
       "\t<tr><th scope=row>6</th><td>201610260TOR</td><td>2016-10-26</td><td>7:30p </td><td>Detroit Pistons  </td><td> 91</td><td>Toronto Raptors       </td><td>109</td><td>Box Score</td><td>  </td><td>19800</td><td></td><td>0</td><td>2017</td></tr>\n",
       "</tbody>\n",
       "</table>\n"
      ],
      "text/latex": [
       "A data.frame: 6 × 13\n",
       "\\begin{tabular}{r|lllllllllllll}\n",
       "  & game\\_id & date\\_game & game\\_start\\_time & visitor\\_team\\_name & visitor\\_pts & home\\_team\\_name & home\\_pts & box\\_score\\_text & overtimes & attendance & game\\_remarks & FLAG\\_PLAYOFFS & SEASON\\\\\n",
       "  & <chr> & <date> & <chr> & <chr> & <dbl> & <chr> & <dbl> & <chr> & <chr> & <dbl> & <chr> & <dbl> & <chr>\\\\\n",
       "\\hline\n",
       "\t1 & 201610250CLE & 2016-10-25 & 7:30p  & New York Knicks   &  88 & Cleveland Cavaliers    & 117 & Box Score &    & 20562 &  & 0 & 2017\\\\\n",
       "\t2 & 201610250POR & 2016-10-25 & 10:00p & Utah Jazz         & 104 & Portland Trail Blazers & 113 & Box Score &    & 19446 &  & 0 & 2017\\\\\n",
       "\t3 & 201610250GSW & 2016-10-25 & 10:30p & San Antonio Spurs & 129 & Golden State Warriors  & 100 & Box Score &    & 19596 &  & 0 & 2017\\\\\n",
       "\t4 & 201610260IND & 2016-10-26 & 7:00p  & Dallas Mavericks  & 121 & Indiana Pacers         & 130 & Box Score & OT & 17923 &  & 0 & 2017\\\\\n",
       "\t5 & 201610260ORL & 2016-10-26 & 7:00p  & Miami Heat        & 108 & Orlando Magic          &  96 & Box Score &    & 19298 &  & 0 & 2017\\\\\n",
       "\t6 & 201610260TOR & 2016-10-26 & 7:30p  & Detroit Pistons   &  91 & Toronto Raptors        & 109 & Box Score &    & 19800 &  & 0 & 2017\\\\\n",
       "\\end{tabular}\n"
      ],
      "text/markdown": [
       "\n",
       "A data.frame: 6 × 13\n",
       "\n",
       "| <!--/--> | game_id &lt;chr&gt; | date_game &lt;date&gt; | game_start_time &lt;chr&gt; | visitor_team_name &lt;chr&gt; | visitor_pts &lt;dbl&gt; | home_team_name &lt;chr&gt; | home_pts &lt;dbl&gt; | box_score_text &lt;chr&gt; | overtimes &lt;chr&gt; | attendance &lt;dbl&gt; | game_remarks &lt;chr&gt; | FLAG_PLAYOFFS &lt;dbl&gt; | SEASON &lt;chr&gt; |\n",
       "|---|---|---|---|---|---|---|---|---|---|---|---|---|---|\n",
       "| 1 | 201610250CLE | 2016-10-25 | 7:30p  | New York Knicks   |  88 | Cleveland Cavaliers    | 117 | Box Score | <!----> | 20562 | <!----> | 0 | 2017 |\n",
       "| 2 | 201610250POR | 2016-10-25 | 10:00p | Utah Jazz         | 104 | Portland Trail Blazers | 113 | Box Score | <!----> | 19446 | <!----> | 0 | 2017 |\n",
       "| 3 | 201610250GSW | 2016-10-25 | 10:30p | San Antonio Spurs | 129 | Golden State Warriors  | 100 | Box Score | <!----> | 19596 | <!----> | 0 | 2017 |\n",
       "| 4 | 201610260IND | 2016-10-26 | 7:00p  | Dallas Mavericks  | 121 | Indiana Pacers         | 130 | Box Score | OT | 17923 | <!----> | 0 | 2017 |\n",
       "| 5 | 201610260ORL | 2016-10-26 | 7:00p  | Miami Heat        | 108 | Orlando Magic          |  96 | Box Score | <!----> | 19298 | <!----> | 0 | 2017 |\n",
       "| 6 | 201610260TOR | 2016-10-26 | 7:30p  | Detroit Pistons   |  91 | Toronto Raptors        | 109 | Box Score | <!----> | 19800 | <!----> | 0 | 2017 |\n",
       "\n"
      ],
      "text/plain": [
       "  game_id      date_game  game_start_time visitor_team_name visitor_pts\n",
       "1 201610250CLE 2016-10-25 7:30p           New York Knicks    88        \n",
       "2 201610250POR 2016-10-25 10:00p          Utah Jazz         104        \n",
       "3 201610250GSW 2016-10-25 10:30p          San Antonio Spurs 129        \n",
       "4 201610260IND 2016-10-26 7:00p           Dallas Mavericks  121        \n",
       "5 201610260ORL 2016-10-26 7:00p           Miami Heat        108        \n",
       "6 201610260TOR 2016-10-26 7:30p           Detroit Pistons    91        \n",
       "  home_team_name         home_pts box_score_text overtimes attendance\n",
       "1 Cleveland Cavaliers    117      Box Score                20562     \n",
       "2 Portland Trail Blazers 113      Box Score                19446     \n",
       "3 Golden State Warriors  100      Box Score                19596     \n",
       "4 Indiana Pacers         130      Box Score      OT        17923     \n",
       "5 Orlando Magic           96      Box Score                19298     \n",
       "6 Toronto Raptors        109      Box Score                19800     \n",
       "  game_remarks FLAG_PLAYOFFS SEASON\n",
       "1              0             2017  \n",
       "2              0             2017  \n",
       "3              0             2017  \n",
       "4              0             2017  \n",
       "5              0             2017  \n",
       "6              0             2017  "
      ]
     },
     "metadata": {},
     "output_type": "display_data"
    }
   ],
   "source": [
    "#check df\n",
    "head(df)"
   ]
  },
  {
   "cell_type": "code",
   "execution_count": 7,
   "id": "ad7b8fab",
   "metadata": {},
   "outputs": [
    {
     "data": {
      "text/html": [
       "<table class=\"dataframe\">\n",
       "<caption>A data.frame: 6 × 3</caption>\n",
       "<thead>\n",
       "\t<tr><th></th><th scope=col>Arena</th><th scope=col>MaxCapacity</th><th scope=col>Team</th></tr>\n",
       "\t<tr><th></th><th scope=col>&lt;chr&gt;</th><th scope=col>&lt;int&gt;</th><th scope=col>&lt;chr&gt;</th></tr>\n",
       "</thead>\n",
       "<tbody>\n",
       "\t<tr><th scope=row>1</th><td>American Airlines</td><td>19200</td><td>Dallas Mavericks  </td></tr>\n",
       "\t<tr><th scope=row>2</th><td>Amway Center     </td><td>18846</td><td>Orlando Magic     </td></tr>\n",
       "\t<tr><th scope=row>3</th><td><span style=white-space:pre-wrap>AT&amp;T Center      </span></td><td>18418</td><td>San Antonio Spurs </td></tr>\n",
       "\t<tr><th scope=row>4</th><td>Ball Arena       </td><td>19520</td><td>Denver Nuggets    </td></tr>\n",
       "\t<tr><th scope=row>5</th><td>Barclays Center  </td><td>17732</td><td>Brooklyn Nets     </td></tr>\n",
       "\t<tr><th scope=row>6</th><td>Capital One Arena</td><td>20356</td><td>Washington Wizards</td></tr>\n",
       "</tbody>\n",
       "</table>\n"
      ],
      "text/latex": [
       "A data.frame: 6 × 3\n",
       "\\begin{tabular}{r|lll}\n",
       "  & Arena & MaxCapacity & Team\\\\\n",
       "  & <chr> & <int> & <chr>\\\\\n",
       "\\hline\n",
       "\t1 & American Airlines & 19200 & Dallas Mavericks  \\\\\n",
       "\t2 & Amway Center      & 18846 & Orlando Magic     \\\\\n",
       "\t3 & AT\\&T Center       & 18418 & San Antonio Spurs \\\\\n",
       "\t4 & Ball Arena        & 19520 & Denver Nuggets    \\\\\n",
       "\t5 & Barclays Center   & 17732 & Brooklyn Nets     \\\\\n",
       "\t6 & Capital One Arena & 20356 & Washington Wizards\\\\\n",
       "\\end{tabular}\n"
      ],
      "text/markdown": [
       "\n",
       "A data.frame: 6 × 3\n",
       "\n",
       "| <!--/--> | Arena &lt;chr&gt; | MaxCapacity &lt;int&gt; | Team &lt;chr&gt; |\n",
       "|---|---|---|---|\n",
       "| 1 | American Airlines | 19200 | Dallas Mavericks   |\n",
       "| 2 | Amway Center      | 18846 | Orlando Magic      |\n",
       "| 3 | AT&amp;T Center       | 18418 | San Antonio Spurs  |\n",
       "| 4 | Ball Arena        | 19520 | Denver Nuggets     |\n",
       "| 5 | Barclays Center   | 17732 | Brooklyn Nets      |\n",
       "| 6 | Capital One Arena | 20356 | Washington Wizards |\n",
       "\n"
      ],
      "text/plain": [
       "  Arena             MaxCapacity Team              \n",
       "1 American Airlines 19200       Dallas Mavericks  \n",
       "2 Amway Center      18846       Orlando Magic     \n",
       "3 AT&T Center       18418       San Antonio Spurs \n",
       "4 Ball Arena        19520       Denver Nuggets    \n",
       "5 Barclays Center   17732       Brooklyn Nets     \n",
       "6 Capital One Arena 20356       Washington Wizards"
      ]
     },
     "metadata": {},
     "output_type": "display_data"
    }
   ],
   "source": [
    "#check df_arenas\n",
    "head(df_arenas)"
   ]
  },
  {
   "cell_type": "code",
   "execution_count": 8,
   "id": "37a331bd",
   "metadata": {},
   "outputs": [
    {
     "data": {
      "text/html": [
       "<style>\n",
       ".list-inline {list-style: none; margin:0; padding: 0}\n",
       ".list-inline>li {display: inline-block}\n",
       ".list-inline>li:not(:last-child)::after {content: \"\\00b7\"; padding: 0 .5ex}\n",
       "</style>\n",
       "<ol class=list-inline><li>6364</li><li>13</li></ol>\n"
      ],
      "text/latex": [
       "\\begin{enumerate*}\n",
       "\\item 6364\n",
       "\\item 13\n",
       "\\end{enumerate*}\n"
      ],
      "text/markdown": [
       "1. 6364\n",
       "2. 13\n",
       "\n",
       "\n"
      ],
      "text/plain": [
       "[1] 6364   13"
      ]
     },
     "metadata": {},
     "output_type": "display_data"
    }
   ],
   "source": [
    "#checa dimensao dos dados\n",
    "dim(df)"
   ]
  },
  {
   "cell_type": "markdown",
   "id": "f1f87bd2",
   "metadata": {},
   "source": [
    "# 2. Tratamento dos dados"
   ]
  },
  {
   "cell_type": "code",
   "execution_count": 9,
   "id": "0f95f4c1",
   "metadata": {},
   "outputs": [
    {
     "data": {
      "text/plain": [
       "  visitor_pts     home_pts       attendance    FLAG_PLAYOFFS    \n",
       " Min.   : 68   Min.   : 64.0   Min.   :    0   Min.   :0.00000  \n",
       " 1st Qu.: 99   1st Qu.:102.0   1st Qu.:14540   1st Qu.:0.00000  \n",
       " Median :108   Median :110.0   Median :17923   Median :0.00000  \n",
       " Mean   :108   Mean   :110.3   Mean   :14955   Mean   :0.03818  \n",
       " 3rd Qu.:116   3rd Qu.:119.0   3rd Qu.:19234   3rd Qu.:0.00000  \n",
       " Max.   :168   Max.   :161.0   Max.   :22983   Max.   :1.00000  \n",
       " NA's   :122   NA's   :122     NA's   :295                      "
      ]
     },
     "metadata": {},
     "output_type": "display_data"
    }
   ],
   "source": [
    "#sumario dos dados\n",
    "summary(df[,c('visitor_pts','home_pts','attendance','FLAG_PLAYOFFS')])"
   ]
  },
  {
   "cell_type": "markdown",
   "id": "cd9d614a",
   "metadata": {},
   "source": [
    "Podemos verificar que os times da casa fazem em média três pontos a mais que os times visitantes, já indicando uma vantagem para os times mandantes."
   ]
  },
  {
   "cell_type": "code",
   "execution_count": 10,
   "id": "be337bfc",
   "metadata": {},
   "outputs": [],
   "source": [
    "#retira colunas que nao representam informacoes uteis\n",
    "df$box_score_text <- NULL\n",
    "df$game_remarks <- NULL\n",
    "df$overtimes <- NULL"
   ]
  },
  {
   "cell_type": "code",
   "execution_count": 11,
   "id": "128aef46",
   "metadata": {},
   "outputs": [],
   "source": [
    "#cruza com df com dados de df_arena para pegar capacidade maxima das arenas\n",
    "df <- left_join(df, df_arenas, \n",
    "                by = c(\"home_team_name\" = \"Team\"))"
   ]
  },
  {
   "cell_type": "code",
   "execution_count": 12,
   "id": "aab39009",
   "metadata": {},
   "outputs": [
    {
     "data": {
      "text/html": [
       "<dl>\n",
       "\t<dt>$game_id</dt>\n",
       "\t\t<dd>0</dd>\n",
       "\t<dt>$date_game</dt>\n",
       "\t\t<dd>0</dd>\n",
       "\t<dt>$game_start_time</dt>\n",
       "\t\t<dd>0</dd>\n",
       "\t<dt>$visitor_team_name</dt>\n",
       "\t\t<dd>0</dd>\n",
       "\t<dt>$visitor_pts</dt>\n",
       "\t\t<dd>122</dd>\n",
       "\t<dt>$home_team_name</dt>\n",
       "\t\t<dd>0</dd>\n",
       "\t<dt>$home_pts</dt>\n",
       "\t\t<dd>122</dd>\n",
       "\t<dt>$attendance</dt>\n",
       "\t\t<dd>295</dd>\n",
       "\t<dt>$FLAG_PLAYOFFS</dt>\n",
       "\t\t<dd>0</dd>\n",
       "\t<dt>$SEASON</dt>\n",
       "\t\t<dd>0</dd>\n",
       "\t<dt>$Arena</dt>\n",
       "\t\t<dd>0</dd>\n",
       "\t<dt>$MaxCapacity</dt>\n",
       "\t\t<dd>0</dd>\n",
       "</dl>\n"
      ],
      "text/latex": [
       "\\begin{description}\n",
       "\\item[\\$game\\_id] 0\n",
       "\\item[\\$date\\_game] 0\n",
       "\\item[\\$game\\_start\\_time] 0\n",
       "\\item[\\$visitor\\_team\\_name] 0\n",
       "\\item[\\$visitor\\_pts] 122\n",
       "\\item[\\$home\\_team\\_name] 0\n",
       "\\item[\\$home\\_pts] 122\n",
       "\\item[\\$attendance] 295\n",
       "\\item[\\$FLAG\\_PLAYOFFS] 0\n",
       "\\item[\\$SEASON] 0\n",
       "\\item[\\$Arena] 0\n",
       "\\item[\\$MaxCapacity] 0\n",
       "\\end{description}\n"
      ],
      "text/markdown": [
       "$game_id\n",
       ":   0\n",
       "$date_game\n",
       ":   0\n",
       "$game_start_time\n",
       ":   0\n",
       "$visitor_team_name\n",
       ":   0\n",
       "$visitor_pts\n",
       ":   122\n",
       "$home_team_name\n",
       ":   0\n",
       "$home_pts\n",
       ":   122\n",
       "$attendance\n",
       ":   295\n",
       "$FLAG_PLAYOFFS\n",
       ":   0\n",
       "$SEASON\n",
       ":   0\n",
       "$Arena\n",
       ":   0\n",
       "$MaxCapacity\n",
       ":   0\n",
       "\n",
       "\n"
      ],
      "text/plain": [
       "$game_id\n",
       "[1] 0\n",
       "\n",
       "$date_game\n",
       "[1] 0\n",
       "\n",
       "$game_start_time\n",
       "[1] 0\n",
       "\n",
       "$visitor_team_name\n",
       "[1] 0\n",
       "\n",
       "$visitor_pts\n",
       "[1] 122\n",
       "\n",
       "$home_team_name\n",
       "[1] 0\n",
       "\n",
       "$home_pts\n",
       "[1] 122\n",
       "\n",
       "$attendance\n",
       "[1] 295\n",
       "\n",
       "$FLAG_PLAYOFFS\n",
       "[1] 0\n",
       "\n",
       "$SEASON\n",
       "[1] 0\n",
       "\n",
       "$Arena\n",
       "[1] 0\n",
       "\n",
       "$MaxCapacity\n",
       "[1] 0\n"
      ]
     },
     "metadata": {},
     "output_type": "display_data"
    }
   ],
   "source": [
    "#checa nulos\n",
    "lapply(df,function(x) { length(which(is.na(x)))})"
   ]
  },
  {
   "cell_type": "code",
   "execution_count": 13,
   "id": "30db5526",
   "metadata": {},
   "outputs": [],
   "source": [
    "#Trata NA na coluna attendance. Esses NAs representam jogos sem torcida devido ao corona virus. \n",
    "#Os NAs devem ser substituidos pelo valor 0.\n",
    "df[is.na(df$attendance),8] <- 0"
   ]
  },
  {
   "cell_type": "code",
   "execution_count": 14,
   "id": "21283c3e",
   "metadata": {},
   "outputs": [],
   "source": [
    "#verificou-se que existem jogos com pontuacoes NAs. Esses jogos devem ser retirados da base, pois representam jogos que nao\n",
    "#aconteceram devido ao corona virus.\n",
    "df_na_treated <- df[!is.na(df$home_pts),]\n",
    "df_na_treated <- df_na_treated[!is.na(df_na_treated$home_pts),]"
   ]
  },
  {
   "cell_type": "code",
   "execution_count": 15,
   "id": "d5086b0b",
   "metadata": {},
   "outputs": [],
   "source": [
    "#Verificou-se a existencia de jogos de playoffs nos dados. Eles nao serao utilizados em nosso estudo e devem ser excluidos.\n",
    "#df_na_treated <- df_na_treated[df_na_treated$FLAG_PLAYOFFS == 0 ,]\n",
    "\n",
    "#considerar utilizar como variavel!"
   ]
  },
  {
   "cell_type": "code",
   "execution_count": 16,
   "id": "f7dffde0",
   "metadata": {},
   "outputs": [],
   "source": [
    "#Criando a variavel resposta a ser prevista que indica se o time da casa venceu ou nao o jogo.\n",
    "df_na_treated$Home_Win <-  ifelse(df_na_treated$visitor_pts<df_na_treated$home_pts,\n",
    "                       1,0)"
   ]
  },
  {
   "cell_type": "code",
   "execution_count": 17,
   "id": "66ae2924",
   "metadata": {},
   "outputs": [],
   "source": [
    "#criacao da variavel que indica presenca ou nao de torcida\n",
    "df_na_treated$Fans_Presence <- ifelse(df_na_treated$attendance==0,0,1)"
   ]
  },
  {
   "cell_type": "code",
   "execution_count": 18,
   "id": "18f6c7cb",
   "metadata": {},
   "outputs": [],
   "source": [
    "#criacao da variavel de ocupacao da arena (para a variavel attendance nao favorecer times com arenas maiores)\n",
    "df_na_treated$Arena_Occupation <- (df_na_treated$attendance/df_na_treated$MaxCapacity)*100"
   ]
  },
  {
   "cell_type": "code",
   "execution_count": 19,
   "id": "e4a7e417",
   "metadata": {},
   "outputs": [
    {
     "data": {
      "text/plain": [
       "  visitor_pts     home_pts       attendance    FLAG_PLAYOFFS    \n",
       " Min.   : 68   Min.   : 64.0   Min.   :    0   Min.   :0.00000  \n",
       " 1st Qu.: 99   1st Qu.:102.0   1st Qu.:14110   1st Qu.:0.00000  \n",
       " Median :108   Median :110.0   Median :17794   Median :0.00000  \n",
       " Mean   :108   Mean   :110.3   Mean   :14540   Mean   :0.03893  \n",
       " 3rd Qu.:116   3rd Qu.:119.0   3rd Qu.:19156   3rd Qu.:0.00000  \n",
       " Max.   :168   Max.   :161.0   Max.   :22983   Max.   :1.00000  \n",
       "    Home_Win      Fans_Presence    Arena_Occupation\n",
       " Min.   :0.0000   Min.   :0.0000   Min.   :  0.00  \n",
       " 1st Qu.:0.0000   1st Qu.:1.0000   1st Qu.: 74.56  \n",
       " Median :1.0000   Median :1.0000   Median : 97.22  \n",
       " Mean   :0.5721   Mean   :0.8803   Mean   : 77.18  \n",
       " 3rd Qu.:1.0000   3rd Qu.:1.0000   3rd Qu.:100.00  \n",
       " Max.   :1.0000   Max.   :1.0000   Max.   :115.96  "
      ]
     },
     "metadata": {},
     "output_type": "display_data"
    }
   ],
   "source": [
    "#sumario dos dados tratados\n",
    "summary(df_na_treated[,c('visitor_pts','home_pts','attendance','FLAG_PLAYOFFS',\n",
    "                         'Home_Win','Fans_Presence','Arena_Occupation')])"
   ]
  },
  {
   "cell_type": "code",
   "execution_count": 20,
   "id": "7fec22ef",
   "metadata": {},
   "outputs": [
    {
     "data": {
      "text/html": [
       "<dl>\n",
       "\t<dt>$game_id</dt>\n",
       "\t\t<dd>0</dd>\n",
       "\t<dt>$date_game</dt>\n",
       "\t\t<dd>0</dd>\n",
       "\t<dt>$game_start_time</dt>\n",
       "\t\t<dd>0</dd>\n",
       "\t<dt>$visitor_team_name</dt>\n",
       "\t\t<dd>0</dd>\n",
       "\t<dt>$visitor_pts</dt>\n",
       "\t\t<dd>0</dd>\n",
       "\t<dt>$home_team_name</dt>\n",
       "\t\t<dd>0</dd>\n",
       "\t<dt>$home_pts</dt>\n",
       "\t\t<dd>0</dd>\n",
       "\t<dt>$attendance</dt>\n",
       "\t\t<dd>0</dd>\n",
       "\t<dt>$FLAG_PLAYOFFS</dt>\n",
       "\t\t<dd>0</dd>\n",
       "\t<dt>$SEASON</dt>\n",
       "\t\t<dd>0</dd>\n",
       "\t<dt>$Arena</dt>\n",
       "\t\t<dd>0</dd>\n",
       "\t<dt>$MaxCapacity</dt>\n",
       "\t\t<dd>0</dd>\n",
       "\t<dt>$Home_Win</dt>\n",
       "\t\t<dd>0</dd>\n",
       "\t<dt>$Fans_Presence</dt>\n",
       "\t\t<dd>0</dd>\n",
       "\t<dt>$Arena_Occupation</dt>\n",
       "\t\t<dd>0</dd>\n",
       "</dl>\n"
      ],
      "text/latex": [
       "\\begin{description}\n",
       "\\item[\\$game\\_id] 0\n",
       "\\item[\\$date\\_game] 0\n",
       "\\item[\\$game\\_start\\_time] 0\n",
       "\\item[\\$visitor\\_team\\_name] 0\n",
       "\\item[\\$visitor\\_pts] 0\n",
       "\\item[\\$home\\_team\\_name] 0\n",
       "\\item[\\$home\\_pts] 0\n",
       "\\item[\\$attendance] 0\n",
       "\\item[\\$FLAG\\_PLAYOFFS] 0\n",
       "\\item[\\$SEASON] 0\n",
       "\\item[\\$Arena] 0\n",
       "\\item[\\$MaxCapacity] 0\n",
       "\\item[\\$Home\\_Win] 0\n",
       "\\item[\\$Fans\\_Presence] 0\n",
       "\\item[\\$Arena\\_Occupation] 0\n",
       "\\end{description}\n"
      ],
      "text/markdown": [
       "$game_id\n",
       ":   0\n",
       "$date_game\n",
       ":   0\n",
       "$game_start_time\n",
       ":   0\n",
       "$visitor_team_name\n",
       ":   0\n",
       "$visitor_pts\n",
       ":   0\n",
       "$home_team_name\n",
       ":   0\n",
       "$home_pts\n",
       ":   0\n",
       "$attendance\n",
       ":   0\n",
       "$FLAG_PLAYOFFS\n",
       ":   0\n",
       "$SEASON\n",
       ":   0\n",
       "$Arena\n",
       ":   0\n",
       "$MaxCapacity\n",
       ":   0\n",
       "$Home_Win\n",
       ":   0\n",
       "$Fans_Presence\n",
       ":   0\n",
       "$Arena_Occupation\n",
       ":   0\n",
       "\n",
       "\n"
      ],
      "text/plain": [
       "$game_id\n",
       "[1] 0\n",
       "\n",
       "$date_game\n",
       "[1] 0\n",
       "\n",
       "$game_start_time\n",
       "[1] 0\n",
       "\n",
       "$visitor_team_name\n",
       "[1] 0\n",
       "\n",
       "$visitor_pts\n",
       "[1] 0\n",
       "\n",
       "$home_team_name\n",
       "[1] 0\n",
       "\n",
       "$home_pts\n",
       "[1] 0\n",
       "\n",
       "$attendance\n",
       "[1] 0\n",
       "\n",
       "$FLAG_PLAYOFFS\n",
       "[1] 0\n",
       "\n",
       "$SEASON\n",
       "[1] 0\n",
       "\n",
       "$Arena\n",
       "[1] 0\n",
       "\n",
       "$MaxCapacity\n",
       "[1] 0\n",
       "\n",
       "$Home_Win\n",
       "[1] 0\n",
       "\n",
       "$Fans_Presence\n",
       "[1] 0\n",
       "\n",
       "$Arena_Occupation\n",
       "[1] 0\n"
      ]
     },
     "metadata": {},
     "output_type": "display_data"
    }
   ],
   "source": [
    "#checa nulos\n",
    "lapply(df_na_treated,function(x) { length(which(is.na(x)))})"
   ]
  },
  {
   "cell_type": "code",
   "execution_count": 21,
   "id": "ef757761",
   "metadata": {},
   "outputs": [],
   "source": [
    "#ordena os jogos por data\n",
    "df_clean <- df_na_treated[order(df_na_treated$date_game),]\n",
    "\n",
    "#cria id da linha\n",
    "df_clean$id <- seq(1:length(df_na_treated$game_id))"
   ]
  },
  {
   "cell_type": "markdown",
   "id": "bdd3831f",
   "metadata": {},
   "source": [
    "Vamos criar as seguintes variaveis que servirao como variaveis explicativas em nosso modelo de previsao do vencedor:\n",
    "\n",
    "obs: essas variaveis sempre serao criadas duas versoes, uma para o time da casa e outra para o time visitante.\n",
    "\n",
    "\n",
    "**1. TaxaDeVitoria:** Porcentagem de jogos vencidos pelo time ate a data daquele jogo.\n",
    "\n",
    "**2. VitoriasEmSequencia:** Jogos vencidos em sequencia pelo time ate a data daquele jogo.\n",
    "\n",
    "**3. DerrotasEmSequencia:** Jogos perdidos em sequencia pelo time ate a data daquele jogo.\n",
    "\n",
    "**4. Dias de descanso:** Quantidade de dias entre o jogo atual e o ultimo jogo.\n",
    "\n",
    "**5. Arena Occupation:** Ocupacao da arena pelos fas. Ja calculado. \n",
    "\n",
    "**6. Fans_Presence:** Presenca ou nao de torcida. Ja calculdado."
   ]
  },
  {
   "cell_type": "code",
   "execution_count": 22,
   "id": "d28c8cf6",
   "metadata": {},
   "outputs": [],
   "source": [
    "#cria colunas para as sequencia de jogos\n",
    "df_clean$HomeWinStreak <- 0\n",
    "df_clean$HomeLossStreak <- 0\n",
    "df_clean$AwayWinStreak <- 0\n",
    "df_clean$AwayLossStreak <- 0"
   ]
  },
  {
   "cell_type": "code",
   "execution_count": 23,
   "id": "c3c91d21",
   "metadata": {},
   "outputs": [],
   "source": [
    "#Calcula sequencia de vitorias e derrotas de cada time\n",
    "df_clean <-  calcula_sequencia(df_clean)"
   ]
  },
  {
   "cell_type": "code",
   "execution_count": 24,
   "id": "64c2a82c",
   "metadata": {},
   "outputs": [],
   "source": [
    "#cria colunas para as taxas de vitorias\n",
    "df_clean$HomeWinRatio <- 0\n",
    "df_clean$AwayWinRatio <- 0 "
   ]
  },
  {
   "cell_type": "code",
   "execution_count": 25,
   "id": "42e624ca",
   "metadata": {},
   "outputs": [],
   "source": [
    "#Calcula taxa de vitoria de cada time\n",
    "df_clean <- calcula_win_ratio(df_clean)"
   ]
  },
  {
   "cell_type": "code",
   "execution_count": 26,
   "id": "0a3f00dc",
   "metadata": {},
   "outputs": [],
   "source": [
    "#cria cluna para dias de descanso e ja marca jogos que sao o primeiro jogo da temporada para cada time. Esses jogos devem\n",
    "#ser desconsiderado na construcao do modelo por nao ter as variaveis de dias descanso.\n",
    "df_clean$HomeDescanso <- 'first_game'\n",
    "df_clean$AwayDescanso <- 'first_game'"
   ]
  },
  {
   "cell_type": "code",
   "execution_count": 27,
   "id": "7a9196b1",
   "metadata": {},
   "outputs": [],
   "source": [
    "#calcula dias de descanso de cada time\n",
    "df_clean <- calcula_descanso(df_clean)\n",
    "\n",
    "#retira os primeiros jogos de cada time na temporada\n",
    "df_final <- df_clean[df_clean$HomeDescanso != 'first_game',]\n",
    "df_final <- df_final[df_final$AwayDescanso != 'first_game',]"
   ]
  },
  {
   "cell_type": "code",
   "execution_count": 28,
   "id": "52d7ae3b",
   "metadata": {},
   "outputs": [],
   "source": [
    "#transforma HomeDescanso e AwayDescanso em variaveis numericas\n",
    "df_final$HomeDescanso <- as.numeric(df_final$HomeDescanso)\n",
    "df_final$AwayDescanso <- as.numeric(df_final$AwayDescanso)"
   ]
  },
  {
   "cell_type": "code",
   "execution_count": 29,
   "id": "e00a4146",
   "metadata": {},
   "outputs": [],
   "source": [
    "#os jogos da chamada bolha da NBA possuem valores outliers de dias de descanso, uma vez que a temporada foi pausada e\n",
    "#retomada tres meses depois. Assim, os primeiros jogos da bolha da NBA serao desconsiderados.\n",
    "df_final <- df_final[df_final$HomeDescanso <100,]\n",
    "df_final <- df_final[df_final$AwayDescanso < 100,]"
   ]
  },
  {
   "cell_type": "code",
   "execution_count": 30,
   "id": "118fe02f",
   "metadata": {},
   "outputs": [],
   "source": [
    "#Transforma a variavel Home_Win em uma variavel fator\n",
    "df_final$Home_Win_Label <- as.factor(df_final$Home_Win)"
   ]
  },
  {
   "cell_type": "code",
   "execution_count": 31,
   "id": "b8dcf534",
   "metadata": {},
   "outputs": [
    {
     "data": {
      "text/html": [
       "<table class=\"dataframe\">\n",
       "<caption>A data.frame: 6 × 25</caption>\n",
       "<thead>\n",
       "\t<tr><th></th><th scope=col>game_id</th><th scope=col>date_game</th><th scope=col>game_start_time</th><th scope=col>visitor_team_name</th><th scope=col>visitor_pts</th><th scope=col>home_team_name</th><th scope=col>home_pts</th><th scope=col>attendance</th><th scope=col>FLAG_PLAYOFFS</th><th scope=col>SEASON</th><th scope=col>...</th><th scope=col>id</th><th scope=col>HomeWinStreak</th><th scope=col>HomeLossStreak</th><th scope=col>AwayWinStreak</th><th scope=col>AwayLossStreak</th><th scope=col>HomeWinRatio</th><th scope=col>AwayWinRatio</th><th scope=col>HomeDescanso</th><th scope=col>AwayDescanso</th><th scope=col>Home_Win_Label</th></tr>\n",
       "\t<tr><th></th><th scope=col>&lt;chr&gt;</th><th scope=col>&lt;date&gt;</th><th scope=col>&lt;chr&gt;</th><th scope=col>&lt;chr&gt;</th><th scope=col>&lt;dbl&gt;</th><th scope=col>&lt;chr&gt;</th><th scope=col>&lt;dbl&gt;</th><th scope=col>&lt;dbl&gt;</th><th scope=col>&lt;dbl&gt;</th><th scope=col>&lt;chr&gt;</th><th scope=col>...</th><th scope=col>&lt;int&gt;</th><th scope=col>&lt;dbl&gt;</th><th scope=col>&lt;dbl&gt;</th><th scope=col>&lt;dbl&gt;</th><th scope=col>&lt;dbl&gt;</th><th scope=col>&lt;dbl&gt;</th><th scope=col>&lt;dbl&gt;</th><th scope=col>&lt;dbl&gt;</th><th scope=col>&lt;dbl&gt;</th><th scope=col>&lt;fct&gt;</th></tr>\n",
       "</thead>\n",
       "<tbody>\n",
       "\t<tr><th scope=row>17</th><td>201610270SAC</td><td>2016-10-27</td><td>10:30p</td><td>San Antonio Spurs  </td><td>102</td><td>Sacramento Kings     </td><td> 94</td><td>17608</td><td>0</td><td>2017</td><td>...</td><td>17</td><td>1</td><td>0</td><td>1</td><td>0</td><td>100</td><td>100</td><td>0</td><td>1</td><td>0</td></tr>\n",
       "\t<tr><th scope=row>18</th><td>201610280TOR</td><td>2016-10-28</td><td>7:00p </td><td>Cleveland Cavaliers</td><td> 94</td><td>Toronto Raptors      </td><td> 91</td><td>19800</td><td>0</td><td>2017</td><td>...</td><td>18</td><td>1</td><td>0</td><td>1</td><td>0</td><td>100</td><td>100</td><td>1</td><td>2</td><td>0</td></tr>\n",
       "\t<tr><th scope=row>19</th><td>201610280BRK</td><td>2016-10-28</td><td>7:30p </td><td>Indiana Pacers     </td><td> 94</td><td>Brooklyn Nets        </td><td>103</td><td>17732</td><td>0</td><td>2017</td><td>...</td><td>19</td><td>0</td><td>1</td><td>1</td><td>0</td><td>  0</td><td>100</td><td>1</td><td>1</td><td>1</td></tr>\n",
       "\t<tr><th scope=row>20</th><td>201610280DET</td><td>2016-10-28</td><td>7:30p </td><td>Orlando Magic      </td><td> 82</td><td>Detroit Pistons      </td><td>108</td><td>19122</td><td>0</td><td>2017</td><td>...</td><td>20</td><td>0</td><td>1</td><td>0</td><td>1</td><td>  0</td><td>  0</td><td>1</td><td>1</td><td>1</td></tr>\n",
       "\t<tr><th scope=row>21</th><td>201610280OKC</td><td>2016-10-28</td><td>8:00p </td><td>Phoenix Suns       </td><td>110</td><td>Oklahoma City Thunder</td><td>113</td><td>18203</td><td>0</td><td>2017</td><td>...</td><td>21</td><td>1</td><td>0</td><td>0</td><td>1</td><td>100</td><td>  0</td><td>1</td><td>1</td><td>1</td></tr>\n",
       "\t<tr><th scope=row>22</th><td>201610280MIA</td><td>2016-10-28</td><td>8:00p </td><td>Charlotte Hornets  </td><td> 97</td><td>Miami Heat           </td><td> 91</td><td>19600</td><td>0</td><td>2017</td><td>...</td><td>22</td><td>1</td><td>0</td><td>1</td><td>0</td><td>100</td><td>100</td><td>1</td><td>1</td><td>0</td></tr>\n",
       "</tbody>\n",
       "</table>\n"
      ],
      "text/latex": [
       "A data.frame: 6 × 25\n",
       "\\begin{tabular}{r|lllllllllllllllllllll}\n",
       "  & game\\_id & date\\_game & game\\_start\\_time & visitor\\_team\\_name & visitor\\_pts & home\\_team\\_name & home\\_pts & attendance & FLAG\\_PLAYOFFS & SEASON & ... & id & HomeWinStreak & HomeLossStreak & AwayWinStreak & AwayLossStreak & HomeWinRatio & AwayWinRatio & HomeDescanso & AwayDescanso & Home\\_Win\\_Label\\\\\n",
       "  & <chr> & <date> & <chr> & <chr> & <dbl> & <chr> & <dbl> & <dbl> & <dbl> & <chr> & ... & <int> & <dbl> & <dbl> & <dbl> & <dbl> & <dbl> & <dbl> & <dbl> & <dbl> & <fct>\\\\\n",
       "\\hline\n",
       "\t17 & 201610270SAC & 2016-10-27 & 10:30p & San Antonio Spurs   & 102 & Sacramento Kings      &  94 & 17608 & 0 & 2017 & ... & 17 & 1 & 0 & 1 & 0 & 100 & 100 & 0 & 1 & 0\\\\\n",
       "\t18 & 201610280TOR & 2016-10-28 & 7:00p  & Cleveland Cavaliers &  94 & Toronto Raptors       &  91 & 19800 & 0 & 2017 & ... & 18 & 1 & 0 & 1 & 0 & 100 & 100 & 1 & 2 & 0\\\\\n",
       "\t19 & 201610280BRK & 2016-10-28 & 7:30p  & Indiana Pacers      &  94 & Brooklyn Nets         & 103 & 17732 & 0 & 2017 & ... & 19 & 0 & 1 & 1 & 0 &   0 & 100 & 1 & 1 & 1\\\\\n",
       "\t20 & 201610280DET & 2016-10-28 & 7:30p  & Orlando Magic       &  82 & Detroit Pistons       & 108 & 19122 & 0 & 2017 & ... & 20 & 0 & 1 & 0 & 1 &   0 &   0 & 1 & 1 & 1\\\\\n",
       "\t21 & 201610280OKC & 2016-10-28 & 8:00p  & Phoenix Suns        & 110 & Oklahoma City Thunder & 113 & 18203 & 0 & 2017 & ... & 21 & 1 & 0 & 0 & 1 & 100 &   0 & 1 & 1 & 1\\\\\n",
       "\t22 & 201610280MIA & 2016-10-28 & 8:00p  & Charlotte Hornets   &  97 & Miami Heat            &  91 & 19600 & 0 & 2017 & ... & 22 & 1 & 0 & 1 & 0 & 100 & 100 & 1 & 1 & 0\\\\\n",
       "\\end{tabular}\n"
      ],
      "text/markdown": [
       "\n",
       "A data.frame: 6 × 25\n",
       "\n",
       "| <!--/--> | game_id &lt;chr&gt; | date_game &lt;date&gt; | game_start_time &lt;chr&gt; | visitor_team_name &lt;chr&gt; | visitor_pts &lt;dbl&gt; | home_team_name &lt;chr&gt; | home_pts &lt;dbl&gt; | attendance &lt;dbl&gt; | FLAG_PLAYOFFS &lt;dbl&gt; | SEASON &lt;chr&gt; | ... ... | id &lt;int&gt; | HomeWinStreak &lt;dbl&gt; | HomeLossStreak &lt;dbl&gt; | AwayWinStreak &lt;dbl&gt; | AwayLossStreak &lt;dbl&gt; | HomeWinRatio &lt;dbl&gt; | AwayWinRatio &lt;dbl&gt; | HomeDescanso &lt;dbl&gt; | AwayDescanso &lt;dbl&gt; | Home_Win_Label &lt;fct&gt; |\n",
       "|---|---|---|---|---|---|---|---|---|---|---|---|---|---|---|---|---|---|---|---|---|---|\n",
       "| 17 | 201610270SAC | 2016-10-27 | 10:30p | San Antonio Spurs   | 102 | Sacramento Kings      |  94 | 17608 | 0 | 2017 | ... | 17 | 1 | 0 | 1 | 0 | 100 | 100 | 0 | 1 | 0 |\n",
       "| 18 | 201610280TOR | 2016-10-28 | 7:00p  | Cleveland Cavaliers |  94 | Toronto Raptors       |  91 | 19800 | 0 | 2017 | ... | 18 | 1 | 0 | 1 | 0 | 100 | 100 | 1 | 2 | 0 |\n",
       "| 19 | 201610280BRK | 2016-10-28 | 7:30p  | Indiana Pacers      |  94 | Brooklyn Nets         | 103 | 17732 | 0 | 2017 | ... | 19 | 0 | 1 | 1 | 0 |   0 | 100 | 1 | 1 | 1 |\n",
       "| 20 | 201610280DET | 2016-10-28 | 7:30p  | Orlando Magic       |  82 | Detroit Pistons       | 108 | 19122 | 0 | 2017 | ... | 20 | 0 | 1 | 0 | 1 |   0 |   0 | 1 | 1 | 1 |\n",
       "| 21 | 201610280OKC | 2016-10-28 | 8:00p  | Phoenix Suns        | 110 | Oklahoma City Thunder | 113 | 18203 | 0 | 2017 | ... | 21 | 1 | 0 | 0 | 1 | 100 |   0 | 1 | 1 | 1 |\n",
       "| 22 | 201610280MIA | 2016-10-28 | 8:00p  | Charlotte Hornets   |  97 | Miami Heat            |  91 | 19600 | 0 | 2017 | ... | 22 | 1 | 0 | 1 | 0 | 100 | 100 | 1 | 1 | 0 |\n",
       "\n"
      ],
      "text/plain": [
       "   game_id      date_game  game_start_time visitor_team_name   visitor_pts\n",
       "17 201610270SAC 2016-10-27 10:30p          San Antonio Spurs   102        \n",
       "18 201610280TOR 2016-10-28 7:00p           Cleveland Cavaliers  94        \n",
       "19 201610280BRK 2016-10-28 7:30p           Indiana Pacers       94        \n",
       "20 201610280DET 2016-10-28 7:30p           Orlando Magic        82        \n",
       "21 201610280OKC 2016-10-28 8:00p           Phoenix Suns        110        \n",
       "22 201610280MIA 2016-10-28 8:00p           Charlotte Hornets    97        \n",
       "   home_team_name        home_pts attendance FLAG_PLAYOFFS SEASON ... id\n",
       "17 Sacramento Kings       94      17608      0             2017   ... 17\n",
       "18 Toronto Raptors        91      19800      0             2017   ... 18\n",
       "19 Brooklyn Nets         103      17732      0             2017   ... 19\n",
       "20 Detroit Pistons       108      19122      0             2017   ... 20\n",
       "21 Oklahoma City Thunder 113      18203      0             2017   ... 21\n",
       "22 Miami Heat             91      19600      0             2017   ... 22\n",
       "   HomeWinStreak HomeLossStreak AwayWinStreak AwayLossStreak HomeWinRatio\n",
       "17 1             0              1             0              100         \n",
       "18 1             0              1             0              100         \n",
       "19 0             1              1             0                0         \n",
       "20 0             1              0             1                0         \n",
       "21 1             0              0             1              100         \n",
       "22 1             0              1             0              100         \n",
       "   AwayWinRatio HomeDescanso AwayDescanso Home_Win_Label\n",
       "17 100          0            1            0             \n",
       "18 100          1            2            0             \n",
       "19 100          1            1            1             \n",
       "20   0          1            1            1             \n",
       "21   0          1            1            1             \n",
       "22 100          1            1            0             "
      ]
     },
     "metadata": {},
     "output_type": "display_data"
    }
   ],
   "source": [
    "head(df_final)"
   ]
  },
  {
   "cell_type": "code",
   "execution_count": 32,
   "id": "7c838c94",
   "metadata": {},
   "outputs": [],
   "source": [
    "## SALVA BASE TRATADA ##\n",
    "now <- Sys.Date()\n",
    "write.csv(df_final,paste0('Data//df_final_',now,'.csv'), row.names = T)"
   ]
  },
  {
   "cell_type": "markdown",
   "id": "d54f17ae",
   "metadata": {},
   "source": [
    "# 3. Analise Exploratoria"
   ]
  },
  {
   "cell_type": "code",
   "execution_count": 33,
   "id": "76b8b83c",
   "metadata": {},
   "outputs": [
    {
     "data": {
      "text/plain": [
       "  visitor_pts     home_pts       attendance    FLAG_PLAYOFFS    \n",
       " Min.   : 68   Min.   : 64.0   Min.   :    0   Min.   :0.00000  \n",
       " 1st Qu.: 99   1st Qu.:102.0   1st Qu.:14123   1st Qu.:0.00000  \n",
       " Median :108   Median :110.0   Median :17792   Median :0.00000  \n",
       " Mean   :108   Mean   :110.3   Mean   :14560   Mean   :0.03951  \n",
       " 3rd Qu.:116   3rd Qu.:119.0   3rd Qu.:19156   3rd Qu.:0.00000  \n",
       " Max.   :168   Max.   :161.0   Max.   :22983   Max.   :1.00000  \n",
       "    Home_Win      Fans_Presence    Arena_Occupation\n",
       " Min.   :0.0000   Min.   :0.0000   Min.   :  0.00  \n",
       " 1st Qu.:0.0000   1st Qu.:1.0000   1st Qu.: 74.76  \n",
       " Median :1.0000   Median :1.0000   Median : 97.21  \n",
       " Mean   :0.5715   Mean   :0.8826   Mean   : 77.28  \n",
       " 3rd Qu.:1.0000   3rd Qu.:1.0000   3rd Qu.:100.00  \n",
       " Max.   :1.0000   Max.   :1.0000   Max.   :115.96  "
      ]
     },
     "metadata": {},
     "output_type": "display_data"
    }
   ],
   "source": [
    "### ANALISE EXPLORATORIA ###\n",
    "summary(df_final[,c('visitor_pts','home_pts','attendance','FLAG_PLAYOFFS','Home_Win','Fans_Presence','Arena_Occupation')])"
   ]
  },
  {
   "cell_type": "code",
   "execution_count": 34,
   "id": "38fc749a",
   "metadata": {},
   "outputs": [
    {
     "data": {
      "image/png": "[encoded data removed]",
      "text/plain": [
       "Plot with title \"Histograma Dias de Descanso Mandante\""
      ]
     },
     "metadata": {
      "image/png": {
       "height": 240,
       "width": 300
      }
     },
     "output_type": "display_data"
    }
   ],
   "source": [
    "#Histograma Dias de Decanso Time da Casa\n",
    "hist(df_final$HomeDescanso, main = \"Histograma Dias de Descanso Mandante\")"
   ]
  },
  {
   "cell_type": "code",
   "execution_count": 35,
   "id": "1fa516f3",
   "metadata": {},
   "outputs": [
    {
     "data": {
      "image/png": "[encoded data removed]",
      "text/plain": [
       "Plot with title \"Histograma Win Ratio Mandante\""
      ]
     },
     "metadata": {
      "image/png": {
       "height": 240,
       "width": 300
      }
     },
     "output_type": "display_data"
    }
   ],
   "source": [
    "#Histograma Win Ratio Time da Casa\n",
    "hist(df_final$HomeWinRatio, main = \"Histograma Win Ratio Mandante\")"
   ]
  },
  {
   "cell_type": "code",
   "execution_count": 36,
   "id": "0ad2e887",
   "metadata": {},
   "outputs": [
    {
     "data": {
      "image/png": "[encoded data removed]",
      "text/plain": [
       "Plot with title \"Histograma Arena_Occupation\""
      ]
     },
     "metadata": {
      "image/png": {
       "height": 240,
       "width": 300
      }
     },
     "output_type": "display_data"
    }
   ],
   "source": [
    "#Histograma Arena Occupation\n",
    "hist(df_final$Arena_Occupation, main = \"Histograma Arena_Occupation\")"
   ]
  },
  {
   "cell_type": "code",
   "execution_count": 37,
   "id": "c3a8ce9c",
   "metadata": {},
   "outputs": [
    {
     "data": {
      "image/png": "[encoded data removed]",
      "text/plain": [
       "plot without title"
      ]
     },
     "metadata": {
      "image/png": {
       "height": 240,
       "width": 300
      }
     },
     "output_type": "display_data"
    }
   ],
   "source": [
    "#Ocupacao da arena por dia de jogo\n",
    "ggplot(df_final, aes(x=date_game, y=Arena_Occupation)) + \n",
    "    geom_point()"
   ]
  },
  {
   "cell_type": "code",
   "execution_count": 38,
   "id": "decfea93",
   "metadata": {},
   "outputs": [
    {
     "data": {
      "text/html": [
       "<table class=\"dataframe\">\n",
       "<caption>A tibble: 5 × 2</caption>\n",
       "<thead>\n",
       "\t<tr><th scope=col>SEASON</th><th scope=col>TaxaVitoriaMedia</th></tr>\n",
       "\t<tr><th scope=col>&lt;chr&gt;</th><th scope=col>&lt;dbl&gt;</th></tr>\n",
       "</thead>\n",
       "<tbody>\n",
       "\t<tr><td>2017</td><td>0.5831400</td></tr>\n",
       "\t<tr><td>2018</td><td>0.5864198</td></tr>\n",
       "\t<tr><td>2019</td><td>0.5895062</td></tr>\n",
       "\t<tr><td>2020</td><td>0.5459459</td></tr>\n",
       "\t<tr><td>2021</td><td>0.5463203</td></tr>\n",
       "</tbody>\n",
       "</table>\n"
      ],
      "text/latex": [
       "A tibble: 5 × 2\n",
       "\\begin{tabular}{ll}\n",
       " SEASON & TaxaVitoriaMedia\\\\\n",
       " <chr> & <dbl>\\\\\n",
       "\\hline\n",
       "\t 2017 & 0.5831400\\\\\n",
       "\t 2018 & 0.5864198\\\\\n",
       "\t 2019 & 0.5895062\\\\\n",
       "\t 2020 & 0.5459459\\\\\n",
       "\t 2021 & 0.5463203\\\\\n",
       "\\end{tabular}\n"
      ],
      "text/markdown": [
       "\n",
       "A tibble: 5 × 2\n",
       "\n",
       "| SEASON &lt;chr&gt; | TaxaVitoriaMedia &lt;dbl&gt; |\n",
       "|---|---|\n",
       "| 2017 | 0.5831400 |\n",
       "| 2018 | 0.5864198 |\n",
       "| 2019 | 0.5895062 |\n",
       "| 2020 | 0.5459459 |\n",
       "| 2021 | 0.5463203 |\n",
       "\n"
      ],
      "text/plain": [
       "  SEASON TaxaVitoriaMedia\n",
       "1 2017   0.5831400       \n",
       "2 2018   0.5864198       \n",
       "3 2019   0.5895062       \n",
       "4 2020   0.5459459       \n",
       "5 2021   0.5463203       "
      ]
     },
     "metadata": {},
     "output_type": "display_data"
    }
   ],
   "source": [
    "#Taxa de Vitoria Media do Time da Casa por Temporada\n",
    "resumo <- df_final %>% group_by(SEASON) %>%  summarise('TaxaVitoriaMedia' = mean(Home_Win))\n",
    "resumo"
   ]
  },
  {
   "cell_type": "code",
   "execution_count": 39,
   "id": "e449d99c",
   "metadata": {},
   "outputs": [
    {
     "data": {
      "text/html": [
       "<table class=\"dataframe\">\n",
       "<caption>A tibble: 2 × 2</caption>\n",
       "<thead>\n",
       "\t<tr><th scope=col>Fans_Presence</th><th scope=col>TaxaVitoriaMedia</th></tr>\n",
       "\t<tr><th scope=col>&lt;dbl&gt;</th><th scope=col>&lt;dbl&gt;</th></tr>\n",
       "</thead>\n",
       "<tbody>\n",
       "\t<tr><td>0</td><td>0.5096953</td></tr>\n",
       "\t<tr><td>1</td><td>0.5797716</td></tr>\n",
       "</tbody>\n",
       "</table>\n"
      ],
      "text/latex": [
       "A tibble: 2 × 2\n",
       "\\begin{tabular}{ll}\n",
       " Fans\\_Presence & TaxaVitoriaMedia\\\\\n",
       " <dbl> & <dbl>\\\\\n",
       "\\hline\n",
       "\t 0 & 0.5096953\\\\\n",
       "\t 1 & 0.5797716\\\\\n",
       "\\end{tabular}\n"
      ],
      "text/markdown": [
       "\n",
       "A tibble: 2 × 2\n",
       "\n",
       "| Fans_Presence &lt;dbl&gt; | TaxaVitoriaMedia &lt;dbl&gt; |\n",
       "|---|---|\n",
       "| 0 | 0.5096953 |\n",
       "| 1 | 0.5797716 |\n",
       "\n"
      ],
      "text/plain": [
       "  Fans_Presence TaxaVitoriaMedia\n",
       "1 0             0.5096953       \n",
       "2 1             0.5797716       "
      ]
     },
     "metadata": {},
     "output_type": "display_data"
    }
   ],
   "source": [
    "#Taxa de Vitoria Media do Time da Casa por Presencao ou Nao de torcida\n",
    "resumo_torcida <- df_final %>% group_by(Fans_Presence) %>%  summarise('TaxaVitoriaMedia' = mean(Home_Win))\n",
    "resumo_torcida"
   ]
  },
  {
   "cell_type": "code",
   "execution_count": 40,
   "id": "a30b5ebb",
   "metadata": {},
   "outputs": [
    {
     "data": {
      "text/html": [
       "<table class=\"dataframe\">\n",
       "<caption>A tibble: 4 × 2</caption>\n",
       "<thead>\n",
       "\t<tr><th scope=col>ArenaOccupationGroup</th><th scope=col>TaxaVitoriaMedia</th></tr>\n",
       "\t<tr><th scope=col>&lt;chr&gt;</th><th scope=col>&lt;dbl&gt;</th></tr>\n",
       "</thead>\n",
       "<tbody>\n",
       "\t<tr><td>0-25% ocup. </td><td>0.5335570</td></tr>\n",
       "\t<tr><td>25-50% ocup.</td><td>0.7000000</td></tr>\n",
       "\t<tr><td>50-75% ocup.</td><td>0.5292208</td></tr>\n",
       "\t<tr><td>75% + ocup. </td><td>0.5828261</td></tr>\n",
       "</tbody>\n",
       "</table>\n"
      ],
      "text/latex": [
       "A tibble: 4 × 2\n",
       "\\begin{tabular}{ll}\n",
       " ArenaOccupationGroup & TaxaVitoriaMedia\\\\\n",
       " <chr> & <dbl>\\\\\n",
       "\\hline\n",
       "\t 0-25\\% ocup.  & 0.5335570\\\\\n",
       "\t 25-50\\% ocup. & 0.7000000\\\\\n",
       "\t 50-75\\% ocup. & 0.5292208\\\\\n",
       "\t 75\\% + ocup.  & 0.5828261\\\\\n",
       "\\end{tabular}\n"
      ],
      "text/markdown": [
       "\n",
       "A tibble: 4 × 2\n",
       "\n",
       "| ArenaOccupationGroup &lt;chr&gt; | TaxaVitoriaMedia &lt;dbl&gt; |\n",
       "|---|---|\n",
       "| 0-25% ocup.  | 0.5335570 |\n",
       "| 25-50% ocup. | 0.7000000 |\n",
       "| 50-75% ocup. | 0.5292208 |\n",
       "| 75% + ocup.  | 0.5828261 |\n",
       "\n"
      ],
      "text/plain": [
       "  ArenaOccupationGroup TaxaVitoriaMedia\n",
       "1 0-25% ocup.          0.5335570       \n",
       "2 25-50% ocup.         0.7000000       \n",
       "3 50-75% ocup.         0.5292208       \n",
       "4 75% + ocup.          0.5828261       "
      ]
     },
     "metadata": {},
     "output_type": "display_data"
    }
   ],
   "source": [
    "#Cria Faixas de ocupacao da arena pelos fas e ve a taxa media de vitoria por faixa de ocupacao.\n",
    "df_final <- df_final %>% mutate(\n",
    "  ArenaOccupationGroup = case_when(\n",
    "    Arena_Occupation >= 0  & Arena_Occupation <= 25 ~ '0-25% ocup.',\n",
    "    Arena_Occupation > 25  & Arena_Occupation <= 50 ~ '25-50% ocup.',\n",
    "    Arena_Occupation > 50  & Arena_Occupation <= 75 ~ '50-75% ocup.',\n",
    "    Arena_Occupation > 75 ~ '75% + ocup.'))\n",
    "\n",
    "resumo_ocupacao <- df_final %>% group_by(ArenaOccupationGroup) %>%  summarise('TaxaVitoriaMedia' = mean(Home_Win))\n",
    "resumo_ocupacao\n",
    "\n",
    "#adicionar coluna de frequencia"
   ]
  },
  {
   "cell_type": "markdown",
   "id": "c36049fd",
   "metadata": {},
   "source": [
    "Vemos que na temporada de 2020 temos uma menor taxa de vitoria dos times da casa, podendo ser uma indicacao do impacto da ausencia de torcida na bolha da NBA.Alem disso, vemos que em media a taxa de vitoria do timeda casa é maior quando há presenca de torcida (57% de vitoria com torcida contra 52% de vitoria sem torcida)."
   ]
  },
  {
   "cell_type": "markdown",
   "id": "e99a5968",
   "metadata": {},
   "source": [
    "# 4. Modelagem dos Dados"
   ]
  },
  {
   "cell_type": "markdown",
   "id": "f44d3a34",
   "metadata": {},
   "source": [
    "\n",
    "Separandos os dados em treino e teste para avaliacao dos modelos criados.\n",
    "\n",
    "Para a primeira abordagem (utilizacao da variavel ocupacao nas temporadas sem pandemia) os dados das primeiras duas temporadas disponveis (2016-17 e 2017-18) serao utilizadas como dados de treino e os dados da temporada 2018-19 sera nossos dados de teste.\n",
    "\n",
    "Para a segunda abordagem (utilizacao da variavel fan presence) vamos utilizar 80% dos jogos para dados de treino e 20% para dados de teste."
   ]
  },
  {
   "cell_type": "code",
   "execution_count": 41,
   "id": "3285e4d6",
   "metadata": {},
   "outputs": [],
   "source": [
    "#dados de teste e treino\n",
    "df_treino_ab1 <- df_final[df_final$SEASON == 2017 |\n",
    "                          df_final$SEASON == 2018,]\n",
    "df_teste_ab1 <- df_final[df_final$SEASON==2019,]                    \n",
    "\n",
    "\n",
    "df_treino_ab2 <- df_final[df_final$SEASON == 2020 | df_final$SEASON == 2021,] %>%  sample_frac(0.8)\n",
    "\n",
    "df_suporte <- df_treino_ab2[,1:2]\n",
    "df_suporte$DADOS_TREINO <- 1\n",
    "df_suporte$date_game <- NULL\n",
    "\n",
    "df_teste_ab2 <- merge(x = df_final[df_final$SEASON == 2020 | df_final$SEASON == 2021,],\n",
    "                      y = df_suporte,\n",
    "                      by = \"game_id\",\n",
    "                      all.x = TRUE)\n",
    "\n",
    "df_teste_ab2 <- df_teste_ab2[is.na(df_teste_ab2$DADOS_TREINO) == T,]"
   ]
  },
  {
   "cell_type": "code",
   "execution_count": 42,
   "id": "213c7fa8",
   "metadata": {},
   "outputs": [
    {
     "data": {
      "text/plain": [
       "   Min. 1st Qu.  Median    Mean 3rd Qu.    Max. \n",
       "   0.00    0.00    1.00    0.66    1.00    1.00 "
      ]
     },
     "metadata": {},
     "output_type": "display_data"
    },
    {
     "data": {
      "text/plain": [
       "   Min. 1st Qu.  Median    Mean 3rd Qu.    Max. \n",
       " 0.0000  0.0000  1.0000  0.6865  1.0000  1.0000 "
      ]
     },
     "metadata": {},
     "output_type": "display_data"
    }
   ],
   "source": [
    "#verifica a variavel fans presence nos dados de treino e teste da abordagem 2\n",
    "summary(df_teste_ab2[,c('Fans_Presence')])\n",
    "summary(df_treino_ab2[,c('Fans_Presence')])"
   ]
  },
  {
   "cell_type": "markdown",
   "id": "e6f2f4f3",
   "metadata": {},
   "source": [
    "Como esperado para a abordagem 2, temos 33% dos jogos sem presenca de fans, tanto nos dados de treino quanto nos dados de teste"
   ]
  },
  {
   "cell_type": "code",
   "execution_count": 43,
   "id": "97233c3f",
   "metadata": {},
   "outputs": [
    {
     "data": {
      "text/plain": [
       "   Min. 1st Qu.  Median    Mean 3rd Qu.    Max. \n",
       "      1       1       1       1       1       1 "
      ]
     },
     "metadata": {},
     "output_type": "display_data"
    },
    {
     "data": {
      "text/plain": [
       "   Min. 1st Qu.  Median    Mean 3rd Qu.    Max. \n",
       "      1       1       1       1       1       1 "
      ]
     },
     "metadata": {},
     "output_type": "display_data"
    }
   ],
   "source": [
    "summary(df_teste_ab1[,c('Fans_Presence')])\n",
    "summary(df_treino_ab1[,c('Fans_Presence')])"
   ]
  },
  {
   "cell_type": "markdown",
   "id": "38a40e2c",
   "metadata": {},
   "source": [
    "Como esperado para a abordagem 1 os dois conjuntos de dados apresentam todos os jogos com presenca de fans"
   ]
  },
  {
   "cell_type": "code",
   "execution_count": 44,
   "id": "83fb94f0",
   "metadata": {},
   "outputs": [],
   "source": [
    "#Seleciona apenas as colunas a serem utilizadas na modelagem\n",
    "cols_ab1 <- c('Arena_Occupation','HomeWinStreak','HomeLossStreak','AwayWinStreak','AwayLossStreak','HomeWinRatio',\n",
    "              'AwayWinRatio','HomeDescanso','AwayDescanso','Home_Win', 'FLAG_PLAYOFFS')\n",
    "\n",
    "cols_ab2 <- c('Arena_Occupation','HomeWinStreak','HomeLossStreak','AwayWinStreak','AwayLossStreak','HomeWinRatio',\n",
    "              'AwayWinRatio','HomeDescanso','AwayDescanso','Home_Win','Fans_Presence')\n",
    "\n",
    "df_treino_ab1 <- df_treino_ab1[,cols_ab1]\n",
    "df_teste_ab1 <- df_teste_ab1[,cols_ab1]\n",
    "\n",
    "\n",
    "df_treino_ab2 <- df_treino_ab2[,cols_ab2]\n",
    "df_teste_ab2 <- df_teste_ab2[,cols_ab2]"
   ]
  },
  {
   "cell_type": "code",
   "execution_count": 45,
   "id": "fb5fd53d",
   "metadata": {},
   "outputs": [
    {
     "data": {
      "text/html": [
       "<style>\n",
       ".list-inline {list-style: none; margin:0; padding: 0}\n",
       ".list-inline>li {display: inline-block}\n",
       ".list-inline>li:not(:last-child)::after {content: \"\\00b7\"; padding: 0 .5ex}\n",
       "</style>\n",
       "<ol class=list-inline><li>453</li><li>11</li></ol>\n"
      ],
      "text/latex": [
       "\\begin{enumerate*}\n",
       "\\item 453\n",
       "\\item 11\n",
       "\\end{enumerate*}\n"
      ],
      "text/markdown": [
       "1. 453\n",
       "2. 11\n",
       "\n",
       "\n"
      ],
      "text/plain": [
       "[1] 453  11"
      ]
     },
     "metadata": {},
     "output_type": "display_data"
    }
   ],
   "source": [
    "dim(df_teste_ab2)"
   ]
  },
  {
   "cell_type": "code",
   "execution_count": 46,
   "id": "9bf4fd27",
   "metadata": {},
   "outputs": [],
   "source": [
    "#Normaliza os dados\n",
    "cols_to_norm_ab1 <- c('Arena_Occupation','HomeWinStreak','HomeLossStreak','AwayWinStreak','AwayLossStreak','HomeWinRatio',\n",
    "              'AwayWinRatio','HomeDescanso','AwayDescanso')\n",
    "\n",
    "cols_to_norm_ab2 <- c('HomeWinStreak','HomeLossStreak','AwayWinStreak','AwayLossStreak','HomeWinRatio',\n",
    "              'AwayWinRatio','HomeDescanso','AwayDescanso')\n",
    "\n",
    "\n",
    "df_norm <- rbind(df_treino_ab1,df_teste_ab1)\n",
    "df_norm <- as.data.frame(lapply(df_norm[,cols_to_norm_ab1],normalizar))\n",
    "\n",
    "df_treino_ab1_norm <- cbind(df_norm[1:2589,],\n",
    "                            'Home_Win_Label' = df_treino_ab1$Home_Win,\n",
    "                            'FLAG_PLAYOFFS' = df_treino_ab1$FLAG_PLAYOFFS)\n",
    "df_teste_ab1_norm <-  cbind(df_norm[2590:3885,],\n",
    "                            'Home_Win_Label' = df_teste_ab1$Home_Win,\n",
    "                            'FLAG_PLAYOFFS' = df_teste_ab1$FLAG_PLAYOFFS)\n",
    "\n",
    "df_norm <- rbind(df_treino_ab2,df_teste_ab2)\n",
    "df_norm <- as.data.frame(lapply(df_norm[,cols_to_norm_ab2],normalizar))\n",
    "\n",
    "df_treino_ab2_norm <- cbind(df_norm[1:1812,],\n",
    "                            'Home_Win_Label' = df_treino_ab2$Home_Win,\n",
    "                            'Fans_Presence' = df_treino_ab2$Fans_Presence)\n",
    "df_teste_ab2_norm <-  cbind(df_norm[1813:2265,],\n",
    "                            'Home_Win_Label' = df_teste_ab2$Home_Win,\n",
    "                            'Fans_Presence' = df_teste_ab2$Fans_Presence)"
   ]
  },
  {
   "cell_type": "markdown",
   "id": "0bef74ea",
   "metadata": {},
   "source": [
    "## 4.1 Modelo Abordagem 1 (Temporadas sem pandemia)"
   ]
  },
  {
   "cell_type": "code",
   "execution_count": 47,
   "id": "f1966ce3",
   "metadata": {},
   "outputs": [
    {
     "data": {
      "text/plain": [
       "\n",
       "Call:\n",
       "glm(formula = Home_Win_Label ~ ., family = binomial(link = \"probit\"), \n",
       "    data = df_treino_ab1_norm)\n",
       "\n",
       "Deviance Residuals: \n",
       "    Min       1Q   Median       3Q      Max  \n",
       "-2.1751  -1.1973   0.7503   1.0041   2.1378  \n",
       "\n",
       "Coefficients:\n",
       "                 Estimate Std. Error z value Pr(>|z|)    \n",
       "(Intercept)        0.2269     0.1832   1.238   0.2156    \n",
       "Arena_Occupation   0.1490     0.2094   0.711   0.4769    \n",
       "HomeWinStreak      0.3709     0.2495   1.487   0.1371    \n",
       "HomeLossStreak    -0.3106     0.2954  -1.051   0.2932    \n",
       "AwayWinStreak     -0.5264     0.2491  -2.113   0.0346 *  \n",
       "AwayLossStreak    -0.2446     0.3047  -0.803   0.4220    \n",
       "HomeWinRatio       1.3149     0.1747   7.526 5.22e-14 ***\n",
       "AwayWinRatio      -1.4602     0.1780  -8.203 2.35e-16 ***\n",
       "HomeDescanso       0.3641     0.2679   1.359   0.1742    \n",
       "AwayDescanso      -0.3996     0.2549  -1.568   0.1169    \n",
       "FLAG_PLAYOFFS      0.1601     0.1120   1.429   0.1530    \n",
       "---\n",
       "Signif. codes:  0 '***' 0.001 '**' 0.01 '*' 0.05 '.' 0.1 ' ' 1\n",
       "\n",
       "(Dispersion parameter for binomial family taken to be 1)\n",
       "\n",
       "    Null deviance: 3514.3  on 2588  degrees of freedom\n",
       "Residual deviance: 3298.4  on 2578  degrees of freedom\n",
       "AIC: 3320.4\n",
       "\n",
       "Number of Fisher Scoring iterations: 4\n"
      ]
     },
     "metadata": {},
     "output_type": "display_data"
    }
   ],
   "source": [
    "#Criando Modelo Base ABORDAGEM 1 - Probit\n",
    "modelo_base <- glm(Home_Win_Label ~ ., \n",
    "                   family = binomial(link=\"probit\"),\n",
    "                   data = df_treino_ab1_norm)\n",
    "\n",
    "\n",
    "summary(modelo_base)"
   ]
  },
  {
   "cell_type": "code",
   "execution_count": 48,
   "id": "941414de",
   "metadata": {},
   "outputs": [
    {
     "name": "stdout",
     "output_type": "stream",
     "text": [
      "[1] \"Acuracia do Modelo nos dados de treino : 0.640401699497876\"\n",
      "[1] \"Acuracia do Modelo nos dados de teste : 0.645061728395062\"\n",
      "[1] \"Matriz de confusão:\"\n"
     ]
    },
    {
     "data": {
      "text/plain": [
       "          \n",
       "pred_teste   0   1\n",
       "         0 205 133\n",
       "         1 327 631"
      ]
     },
     "metadata": {},
     "output_type": "display_data"
    }
   ],
   "source": [
    "#Realizando previsoes para avaliar o modelo\n",
    "\n",
    "#Previsoes nos dados de treino\n",
    "pred_train <- predict(modelo_base, df_treino_ab1_norm, type = 'response')\n",
    "pred_train <- ifelse(pred_train > 0.5, 1, 0)\n",
    "\n",
    "#Previsoes corretas com dataset de treino\n",
    "print(paste('Acuracia do Modelo nos dados de treino :',mean(pred_train == df_treino_ab1_norm$Home_Win_Label)))\n",
    "\n",
    "#previsoes com dados de teste\n",
    "pred_teste <- predict(modelo_base, df_teste_ab1_norm, type = 'response')\n",
    "pred_teste <- ifelse(pred_teste > 0.5, 1, 0)\n",
    "\n",
    "#previsoes corretas com dataset de teste\n",
    "print(paste('Acuracia do Modelo nos dados de teste :',mean(pred_teste == df_teste_ab1_norm$Home_Win_Label)))\n",
    "\n",
    "#confusion matrix\n",
    "print('Matriz de confusão:')\n",
    "table(pred_teste,df_teste_ab1_norm$Home_Win_Label)\n"
   ]
  },
  {
   "cell_type": "markdown",
   "id": "ffbe5a34",
   "metadata": {},
   "source": [
    "**Analisando o modelo base da abordagem 1:**\n",
    "\n",
    "As únicas variáveis que se mostraram estatisticamente significativa foram as taxas de vitorias dos times e a sequencia de vitórias do time da casa. A taxa de vitória do time mandante possui impacto positivo nas chances desse time vencer, o que signfica que quanto maior a taxa de vitória desse time maior a chance dele vencer o jogo (o que faz todo sentido com o que é esperado de times que vencem mais). Da mesma forma a taxa de vitoria do time visitante possui impacto negativo nas chances do mandante vencer a partida. Por último a sequencia de vitorias do mandante aumenta as chances desse time vencer.\n",
    "\n",
    "Analisando o impacto da taxa de ocupação da arena nas chances de vitoria do time mandante vemos que ela não é estatisticamente significante, o que pode ser indicativo que não há relaçao entre as chances de vitoria do time da casa e a ocupação da arena."
   ]
  },
  {
   "cell_type": "code",
   "execution_count": 49,
   "id": "f2fe765a",
   "metadata": {},
   "outputs": [
    {
     "data": {
      "text/plain": [
       "\n",
       "Call:\n",
       "glm(formula = Home_Win_Label ~ HomeWinRatio + AwayWinRatio + \n",
       "    HomeWinStreak + Arena_Occupation, family = binomial(link = \"probit\"), \n",
       "    data = df_treino_ab1_norm)\n",
       "\n",
       "Deviance Residuals: \n",
       "    Min       1Q   Median       3Q      Max  \n",
       "-2.1728  -1.1892   0.7552   1.0123   2.1295  \n",
       "\n",
       "Coefficients:\n",
       "                 Estimate Std. Error z value Pr(>|z|)    \n",
       "(Intercept)        0.1285     0.1640   0.784   0.4333    \n",
       "HomeWinRatio       1.4023     0.1658   8.456   <2e-16 ***\n",
       "AwayWinRatio      -1.5053     0.1551  -9.703   <2e-16 ***\n",
       "HomeWinStreak      0.4279     0.2393   1.788   0.0737 .  \n",
       "Arena_Occupation   0.1673     0.2077   0.805   0.4207    \n",
       "---\n",
       "Signif. codes:  0 '***' 0.001 '**' 0.01 '*' 0.05 '.' 0.1 ' ' 1\n",
       "\n",
       "(Dispersion parameter for binomial family taken to be 1)\n",
       "\n",
       "    Null deviance: 3514.3  on 2588  degrees of freedom\n",
       "Residual deviance: 3308.8  on 2584  degrees of freedom\n",
       "AIC: 3318.8\n",
       "\n",
       "Number of Fisher Scoring iterations: 4\n"
      ]
     },
     "metadata": {},
     "output_type": "display_data"
    },
    {
     "name": "stdout",
     "output_type": "stream",
     "text": [
      "[1] \"Acuracia do Modelo nos dados de treino : 0.639629200463499\"\n",
      "[1] \"Acuracia do Modelo nos dados de teste : 0.652777777777778\"\n"
     ]
    },
    {
     "data": {
      "text/plain": [
       "          \n",
       "pred_teste   0   1\n",
       "         0 211 129\n",
       "         1 321 635"
      ]
     },
     "metadata": {},
     "output_type": "display_data"
    }
   ],
   "source": [
    "#Retirando as variaveis nao significativas e atualizando o modelo, porem mantendo a variavel arena_occupation.\n",
    "\n",
    "modelo_base_2 <- glm(Home_Win_Label ~ HomeWinRatio + AwayWinRatio + HomeWinStreak + Arena_Occupation, \n",
    "                     family = binomial(link=\"probit\"),\n",
    "                     data = df_treino_ab1_norm)\n",
    "\n",
    "\n",
    "summary(modelo_base_2)\n",
    "\n",
    "#Realizando previsoes para avaliar o modelo\n",
    "\n",
    "#Previsoes nos dados de treino\n",
    "pred_train <- predict(modelo_base_2, df_treino_ab1_norm, type = 'response')\n",
    "pred_train <- ifelse(pred_train > 0.5, 1, 0)\n",
    "\n",
    "#Previsoes corretas com dataset de treino\n",
    "print(paste('Acuracia do Modelo nos dados de treino :',mean(pred_train == df_treino_ab1_norm$Home_Win_Label)))\n",
    "\n",
    "#previsoes com dados de teste\n",
    "pred_teste <- predict(modelo_base_2, df_teste_ab1_norm, type = 'response')\n",
    "pred_teste <- ifelse(pred_teste > 0.5, 1, 0)\n",
    "\n",
    "#previsoes corretas com dataset de teste\n",
    "print(paste('Acuracia do Modelo nos dados de teste :',mean(pred_teste == df_teste_ab1_norm$Home_Win_Label)))\n",
    "\n",
    "#confusion matrix\n",
    "table(pred_teste,df_teste_ab1_norm$Home_Win_Label)"
   ]
  },
  {
   "cell_type": "markdown",
   "id": "ec00e185",
   "metadata": {},
   "source": [
    "**Analise do modelo V2 da abordagem 1:**\n",
    "\n",
    "A variavel de taxa de ocupacao da arena continuou sendo nao significante, mesmo no modelo com menos variaveis. Isso pode ser consequencia das arenas estarem sempre com pelo menos 50% de ocupacao (como visto na analise exploratoria),assim parece taxas de ocupações maiores nao tem efeito sobre as chances de vitoria, ja que nao temos jogos com baixa ocupacao ou sem ocupacao nas temporadas entre 2017 e 2019. <br/> \n",
    "Ou seja, a variável nao apresenta grandes diferenças entre os jogos, não sendo relevante para as chances de vitoria do time da casa.\n",
    "\n",
    "Vamos tentar novos algoritmos afim de aumentar a acurácia dos nossos modelos. Vamos testar random forest e xgboost.\n",
    "\n",
    "**Investigar outros modelos para essa abordagem --> foca na classificacao para depois pensarmos no efeito do publico. Compara casos proximos e ver o delta de ocupacao da arena**"
   ]
  },
  {
   "cell_type": "code",
   "execution_count": 133,
   "id": "b0678ea3",
   "metadata": {},
   "outputs": [
    {
     "data": {
      "text/plain": [
       "\n",
       "Call:\n",
       " randomForest(formula = as.factor(Home_Win_Label) ~ ., data = df_treino_ab1_norm,      ) \n",
       "               Type of random forest: classification\n",
       "                     Number of trees: 500\n",
       "No. of variables tried at each split: 3\n",
       "\n",
       "        OOB estimate of  error rate: 37.62%\n",
       "Confusion matrix:\n",
       "    0    1 class.error\n",
       "0 506  569   0.5293023\n",
       "1 405 1109   0.2675033"
      ]
     },
     "metadata": {},
     "output_type": "display_data"
    }
   ],
   "source": [
    "#criando modelo random forest basse\n",
    "rf <- randomForest(\n",
    "  as.factor(Home_Win_Label) ~ .,\n",
    "  data = df_treino_ab1_norm,\n",
    ")\n",
    "rf"
   ]
  },
  {
   "cell_type": "code",
   "execution_count": 135,
   "id": "cbf424b0",
   "metadata": {},
   "outputs": [
    {
     "name": "stdout",
     "output_type": "stream",
     "text": [
      "[1] \"Acuracia do Modelo nos dados de treino : 0.999227500965624\"\n",
      "[1] \"Acuracia do Modelo nos dados de teste : 0.609567901234568\"\n"
     ]
    }
   ],
   "source": [
    "rf_treino_pred = predict(rf, df_treino_ab1_norm)\n",
    "#rf_treino_pred <- ifelse(rf_treino_pred > 0.5, 1, 0)\n",
    "\n",
    "#Previsoes corretas com dataset de treino\n",
    "print(paste('Acuracia do Modelo nos dados de treino :',mean(rf_treino_pred == df_treino_ab1_norm$Home_Win_Label)))\n",
    "\n",
    "#previsoes nos dados de teste\n",
    "rf_teste_pred = predict(rf, df_teste_ab1_norm)\n",
    "#rf_teste_pred <- ifelse(rf_teste_pred > 0.5, 1, 0)\n",
    "\n",
    "#previsoes corretas com dataset de teste\n",
    "print(paste('Acuracia do Modelo nos dados de teste :',mean(rf_teste_pred == df_teste_ab1_norm$Home_Win_Label)))\n"
   ]
  },
  {
   "cell_type": "markdown",
   "id": "36516849",
   "metadata": {},
   "source": [
    "Modelo base de random forest apresentou overfitting, assim vamos ajustar os parametros afim de otimizar o modelo"
   ]
  },
  {
   "cell_type": "code",
   "execution_count": 136,
   "id": "7acaddcd",
   "metadata": {},
   "outputs": [
    {
     "data": {
      "text/plain": [
       "\n",
       "Call:\n",
       " randomForest(formula = as.factor(Home_Win_Label) ~ ., data = df_treino_ab1_norm,      maxnodes = 30, mtry = 2, ntree = 1000) \n",
       "               Type of random forest: classification\n",
       "                     Number of trees: 1000\n",
       "No. of variables tried at each split: 2\n",
       "\n",
       "        OOB estimate of  error rate: 36.46%\n",
       "Confusion matrix:\n",
       "    0    1 class.error\n",
       "0 404  671    0.624186\n",
       "1 273 1241    0.180317"
      ]
     },
     "metadata": {},
     "output_type": "display_data"
    }
   ],
   "source": [
    "rf <- randomForest(\n",
    "  as.factor(Home_Win_Label) ~ .,\n",
    "  data = df_treino_ab1_norm,\n",
    "    maxnodes = 30,\n",
    "    mtry = 2,\n",
    "    ntree=1000\n",
    ")\n",
    "rf"
   ]
  },
  {
   "cell_type": "code",
   "execution_count": 137,
   "id": "01dfd10a",
   "metadata": {},
   "outputs": [
    {
     "name": "stdout",
     "output_type": "stream",
     "text": [
      "[1] \"Acuracia do Modelo nos dados de treino : 0.676322904596369\"\n"
     ]
    },
    {
     "data": {
      "text/plain": [
       "              \n",
       "rf_treino_pred    0    1\n",
       "             0  465  228\n",
       "             1  610 1286"
      ]
     },
     "metadata": {},
     "output_type": "display_data"
    },
    {
     "name": "stdout",
     "output_type": "stream",
     "text": [
      "[1] \"Acuracia do Modelo nos dados de teste : 0.639660493827161\"\n"
     ]
    }
   ],
   "source": [
    "rf_treino_pred = predict(rf, df_treino_ab1_norm)\n",
    "#rf_treino_pred <- ifelse(rf_treino_pred > 0.5, 1, 0)\n",
    "\n",
    "#Previsoes corretas com dataset de treino\n",
    "print(paste('Acuracia do Modelo nos dados de treino :',mean(rf_treino_pred == df_treino_ab1_norm$Home_Win_Label)))\n",
    "\n",
    "#confusion matrix\n",
    "table(rf_treino_pred, df_treino_ab1_norm$Home_Win_Label)\n",
    "\n",
    "#previsoes nos dados de teste\n",
    "rf_teste_pred = predict(rf, df_teste_ab1_norm)\n",
    "#rf_teste_pred <- ifelse(rf_teste_pred > 0.5, 1, 0)\n",
    "\n",
    "#previsoes corretas com dataset de teste\n",
    "print(paste('Acuracia do Modelo nos dados de teste :',mean(rf_teste_pred == df_teste_ab1_norm$Home_Win_Label)))\n",
    "\n",
    "#confusion matrix"
   ]
  },
  {
   "cell_type": "markdown",
   "id": "bd75b0f8",
   "metadata": {},
   "source": [
    "O Modelo Random Forest nao apresentou bons resultados de acuracia nos dados de teste, quando corrigido para evitar overfitting. Sua performance foi parecida com os modelos Logit. Iremos testar agora o modelo xgboost, afim de aumentar a acurácia em dados de teste."
   ]
  },
  {
   "cell_type": "code",
   "execution_count": 138,
   "id": "1bff3ef9",
   "metadata": {},
   "outputs": [
    {
     "name": "stdout",
     "output_type": "stream",
     "text": [
      "[1]\ttrain-error:0.187331 \n",
      "[2]\ttrain-error:0.144071 \n",
      "[3]\ttrain-error:0.113171 \n",
      "[4]\ttrain-error:0.097721 \n",
      "[5]\ttrain-error:0.083816 \n",
      "[6]\ttrain-error:0.076091 \n",
      "[7]\ttrain-error:0.067980 \n",
      "[8]\ttrain-error:0.059869 \n",
      "[9]\ttrain-error:0.054075 \n",
      "[10]\ttrain-error:0.047509 \n",
      "[11]\ttrain-error:0.040942 \n",
      "[12]\ttrain-error:0.030127 \n",
      "[13]\ttrain-error:0.026651 \n",
      "[14]\ttrain-error:0.023947 \n",
      "[15]\ttrain-error:0.022016 \n",
      "[16]\ttrain-error:0.020085 \n",
      "[17]\ttrain-error:0.017767 \n",
      "[18]\ttrain-error:0.018154 \n",
      "[19]\ttrain-error:0.018154 \n",
      "[20]\ttrain-error:0.017767 \n",
      "[21]\ttrain-error:0.017381 \n",
      "[22]\ttrain-error:0.015836 \n",
      "[23]\ttrain-error:0.016995 \n",
      "[24]\ttrain-error:0.013132 \n",
      "[25]\ttrain-error:0.012360 \n",
      "[26]\ttrain-error:0.012360 \n",
      "[27]\ttrain-error:0.012746 \n",
      "[28]\ttrain-error:0.011974 \n",
      "[29]\ttrain-error:0.011974 \n",
      "[30]\ttrain-error:0.011974 \n",
      "[31]\ttrain-error:0.011974 \n",
      "[32]\ttrain-error:0.011974 \n",
      "[33]\ttrain-error:0.011974 \n",
      "[34]\ttrain-error:0.011974 \n",
      "[35]\ttrain-error:0.011974 \n",
      "[36]\ttrain-error:0.011974 \n",
      "[37]\ttrain-error:0.011974 \n",
      "[38]\ttrain-error:0.011974 \n",
      "[39]\ttrain-error:0.011974 \n",
      "[40]\ttrain-error:0.011974 \n",
      "[41]\ttrain-error:0.011974 \n",
      "[42]\ttrain-error:0.011974 \n",
      "[43]\ttrain-error:0.011974 \n",
      "[44]\ttrain-error:0.011974 \n",
      "[45]\ttrain-error:0.011974 \n",
      "[46]\ttrain-error:0.011974 \n",
      "[47]\ttrain-error:0.011974 \n",
      "[48]\ttrain-error:0.011974 \n",
      "[49]\ttrain-error:0.011974 \n",
      "[50]\ttrain-error:0.011974 \n",
      "[51]\ttrain-error:0.011974 \n",
      "[52]\ttrain-error:0.011974 \n",
      "[53]\ttrain-error:0.011974 \n",
      "[54]\ttrain-error:0.011974 \n",
      "[55]\ttrain-error:0.011974 \n",
      "[56]\ttrain-error:0.011974 \n",
      "[57]\ttrain-error:0.011974 \n",
      "[58]\ttrain-error:0.011974 \n",
      "[59]\ttrain-error:0.011974 \n",
      "[60]\ttrain-error:0.011974 \n",
      "[61]\ttrain-error:0.011974 \n",
      "[62]\ttrain-error:0.011974 \n",
      "[63]\ttrain-error:0.011974 \n",
      "[64]\ttrain-error:0.011974 \n",
      "[65]\ttrain-error:0.011974 \n",
      "[66]\ttrain-error:0.011974 \n",
      "[67]\ttrain-error:0.011974 \n",
      "[68]\ttrain-error:0.011974 \n",
      "[69]\ttrain-error:0.011974 \n",
      "[70]\ttrain-error:0.011974 \n",
      "[71]\ttrain-error:0.011974 \n",
      "[72]\ttrain-error:0.011974 \n",
      "[73]\ttrain-error:0.011974 \n",
      "[74]\ttrain-error:0.011974 \n",
      "[75]\ttrain-error:0.011974 \n",
      "[76]\ttrain-error:0.011974 \n",
      "[77]\ttrain-error:0.011974 \n",
      "[78]\ttrain-error:0.011974 \n",
      "[79]\ttrain-error:0.011974 \n",
      "[80]\ttrain-error:0.011974 \n",
      "[81]\ttrain-error:0.011974 \n",
      "[82]\ttrain-error:0.011974 \n",
      "[83]\ttrain-error:0.011974 \n",
      "[84]\ttrain-error:0.011974 \n",
      "[85]\ttrain-error:0.011974 \n",
      "[86]\ttrain-error:0.011974 \n",
      "[87]\ttrain-error:0.011974 \n",
      "[88]\ttrain-error:0.011974 \n",
      "[89]\ttrain-error:0.011974 \n",
      "[90]\ttrain-error:0.011974 \n",
      "[91]\ttrain-error:0.011974 \n",
      "[92]\ttrain-error:0.011974 \n",
      "[93]\ttrain-error:0.011974 \n",
      "[94]\ttrain-error:0.011974 \n",
      "[95]\ttrain-error:0.011974 \n",
      "[96]\ttrain-error:0.011974 \n",
      "[97]\ttrain-error:0.011974 \n",
      "[98]\ttrain-error:0.011974 \n",
      "[99]\ttrain-error:0.011974 \n",
      "[100]\ttrain-error:0.011974 \n",
      "[101]\ttrain-error:0.011974 \n",
      "[102]\ttrain-error:0.011974 \n",
      "[103]\ttrain-error:0.011974 \n",
      "[104]\ttrain-error:0.011974 \n",
      "[105]\ttrain-error:0.011974 \n",
      "[106]\ttrain-error:0.011974 \n",
      "[107]\ttrain-error:0.011974 \n",
      "[108]\ttrain-error:0.011974 \n",
      "[109]\ttrain-error:0.011974 \n",
      "[110]\ttrain-error:0.011974 \n",
      "[111]\ttrain-error:0.011974 \n",
      "[112]\ttrain-error:0.011974 \n",
      "[113]\ttrain-error:0.011974 \n",
      "[114]\ttrain-error:0.011974 \n",
      "[115]\ttrain-error:0.011974 \n",
      "[116]\ttrain-error:0.011974 \n",
      "[117]\ttrain-error:0.011974 \n",
      "[118]\ttrain-error:0.011974 \n",
      "[119]\ttrain-error:0.011974 \n",
      "[120]\ttrain-error:0.011974 \n",
      "[121]\ttrain-error:0.011974 \n",
      "[122]\ttrain-error:0.011974 \n",
      "[123]\ttrain-error:0.011974 \n",
      "[124]\ttrain-error:0.011974 \n",
      "[125]\ttrain-error:0.011974 \n",
      "[126]\ttrain-error:0.011974 \n",
      "[127]\ttrain-error:0.011974 \n",
      "[128]\ttrain-error:0.011974 \n",
      "[129]\ttrain-error:0.011974 \n",
      "[130]\ttrain-error:0.011974 \n",
      "[131]\ttrain-error:0.011974 \n",
      "[132]\ttrain-error:0.011974 \n",
      "[133]\ttrain-error:0.011974 \n",
      "[134]\ttrain-error:0.011974 \n",
      "[135]\ttrain-error:0.011974 \n",
      "[136]\ttrain-error:0.011974 \n",
      "[137]\ttrain-error:0.011974 \n",
      "[138]\ttrain-error:0.011974 \n",
      "[139]\ttrain-error:0.011974 \n",
      "[140]\ttrain-error:0.011974 \n",
      "[141]\ttrain-error:0.011974 \n",
      "[142]\ttrain-error:0.011974 \n",
      "[143]\ttrain-error:0.011974 \n",
      "[144]\ttrain-error:0.011974 \n",
      "[145]\ttrain-error:0.011974 \n",
      "[146]\ttrain-error:0.011974 \n",
      "[147]\ttrain-error:0.011974 \n",
      "[148]\ttrain-error:0.011974 \n",
      "[149]\ttrain-error:0.011974 \n",
      "[150]\ttrain-error:0.011974 \n",
      "[151]\ttrain-error:0.011974 \n",
      "[152]\ttrain-error:0.011974 \n",
      "[153]\ttrain-error:0.011974 \n",
      "[154]\ttrain-error:0.011974 \n",
      "[155]\ttrain-error:0.011974 \n",
      "[156]\ttrain-error:0.011974 \n",
      "[157]\ttrain-error:0.011974 \n",
      "[158]\ttrain-error:0.011974 \n",
      "[159]\ttrain-error:0.011974 \n",
      "[160]\ttrain-error:0.011974 \n",
      "[161]\ttrain-error:0.011974 \n",
      "[162]\ttrain-error:0.011974 \n",
      "[163]\ttrain-error:0.011974 \n",
      "[164]\ttrain-error:0.011974 \n",
      "[165]\ttrain-error:0.011974 \n",
      "[166]\ttrain-error:0.011974 \n",
      "[167]\ttrain-error:0.011974 \n",
      "[168]\ttrain-error:0.011974 \n",
      "[169]\ttrain-error:0.011974 \n",
      "[170]\ttrain-error:0.011974 \n",
      "[171]\ttrain-error:0.011974 \n",
      "[172]\ttrain-error:0.011974 \n",
      "[173]\ttrain-error:0.011974 \n",
      "[174]\ttrain-error:0.011974 \n",
      "[175]\ttrain-error:0.011974 \n",
      "[176]\ttrain-error:0.011974 \n",
      "[177]\ttrain-error:0.011974 \n",
      "[178]\ttrain-error:0.011974 \n",
      "[179]\ttrain-error:0.011974 \n",
      "[180]\ttrain-error:0.011974 \n",
      "[181]\ttrain-error:0.011974 \n",
      "[182]\ttrain-error:0.011974 \n",
      "[183]\ttrain-error:0.011974 \n",
      "[184]\ttrain-error:0.011974 \n",
      "[185]\ttrain-error:0.011974 \n",
      "[186]\ttrain-error:0.011974 \n",
      "[187]\ttrain-error:0.011974 \n",
      "[188]\ttrain-error:0.011974 \n",
      "[189]\ttrain-error:0.011974 \n",
      "[190]\ttrain-error:0.011974 \n",
      "[191]\ttrain-error:0.011974 \n",
      "[192]\ttrain-error:0.011974 \n",
      "[193]\ttrain-error:0.011974 \n",
      "[194]\ttrain-error:0.011974 \n",
      "[195]\ttrain-error:0.011974 \n",
      "[196]\ttrain-error:0.011974 \n",
      "[197]\ttrain-error:0.011974 \n",
      "[198]\ttrain-error:0.011974 \n",
      "[199]\ttrain-error:0.011974 \n",
      "[200]\ttrain-error:0.011974 \n",
      "[201]\ttrain-error:0.011974 \n",
      "[202]\ttrain-error:0.011974 \n",
      "[203]\ttrain-error:0.011974 \n",
      "[204]\ttrain-error:0.011974 \n",
      "[205]\ttrain-error:0.011974 \n",
      "[206]\ttrain-error:0.011974 \n",
      "[207]\ttrain-error:0.011974 \n",
      "[208]\ttrain-error:0.011974 \n",
      "[209]\ttrain-error:0.011974 \n",
      "[210]\ttrain-error:0.011974 \n",
      "[211]\ttrain-error:0.011974 \n",
      "[212]\ttrain-error:0.011974 \n",
      "[213]\ttrain-error:0.011974 \n",
      "[214]\ttrain-error:0.011974 \n",
      "[215]\ttrain-error:0.011974 \n",
      "[216]\ttrain-error:0.011974 \n",
      "[217]\ttrain-error:0.011974 \n",
      "[218]\ttrain-error:0.011974 \n",
      "[219]\ttrain-error:0.011974 \n",
      "[220]\ttrain-error:0.011974 \n",
      "[221]\ttrain-error:0.011974 \n",
      "[222]\ttrain-error:0.011974 \n",
      "[223]\ttrain-error:0.011974 \n",
      "[224]\ttrain-error:0.011974 \n",
      "[225]\ttrain-error:0.011974 \n",
      "[226]\ttrain-error:0.011974 \n",
      "[227]\ttrain-error:0.011974 \n",
      "[228]\ttrain-error:0.011974 \n",
      "[229]\ttrain-error:0.011974 \n",
      "[230]\ttrain-error:0.011974 \n",
      "[231]\ttrain-error:0.011974 \n",
      "[232]\ttrain-error:0.011974 \n",
      "[233]\ttrain-error:0.011974 \n",
      "[234]\ttrain-error:0.011974 \n",
      "[235]\ttrain-error:0.011974 \n",
      "[236]\ttrain-error:0.011974 \n",
      "[237]\ttrain-error:0.011974 \n",
      "[238]\ttrain-error:0.011974 \n",
      "[239]\ttrain-error:0.011974 \n",
      "[240]\ttrain-error:0.011974 \n",
      "[241]\ttrain-error:0.011974 \n",
      "[242]\ttrain-error:0.011974 \n",
      "[243]\ttrain-error:0.011974 \n",
      "[244]\ttrain-error:0.011974 \n",
      "[245]\ttrain-error:0.011974 \n",
      "[246]\ttrain-error:0.011974 \n",
      "[247]\ttrain-error:0.011974 \n",
      "[248]\ttrain-error:0.011974 \n",
      "[249]\ttrain-error:0.011974 \n",
      "[250]\ttrain-error:0.011974 \n",
      "[251]\ttrain-error:0.011974 \n",
      "[252]\ttrain-error:0.011974 \n",
      "[253]\ttrain-error:0.011974 \n",
      "[254]\ttrain-error:0.011974 \n",
      "[255]\ttrain-error:0.011974 \n",
      "[256]\ttrain-error:0.011974 \n",
      "[257]\ttrain-error:0.011974 \n",
      "[258]\ttrain-error:0.011974 \n",
      "[259]\ttrain-error:0.011974 \n",
      "[260]\ttrain-error:0.011974 \n",
      "[261]\ttrain-error:0.011974 \n",
      "[262]\ttrain-error:0.011974 \n",
      "[263]\ttrain-error:0.011974 \n",
      "[264]\ttrain-error:0.011974 \n",
      "[265]\ttrain-error:0.011974 \n",
      "[266]\ttrain-error:0.011974 \n",
      "[267]\ttrain-error:0.011974 \n",
      "[268]\ttrain-error:0.011974 \n",
      "[269]\ttrain-error:0.011974 \n",
      "[270]\ttrain-error:0.011974 \n",
      "[271]\ttrain-error:0.011974 \n",
      "[272]\ttrain-error:0.011974 \n",
      "[273]\ttrain-error:0.011974 \n",
      "[274]\ttrain-error:0.011974 \n",
      "[275]\ttrain-error:0.011974 \n",
      "[276]\ttrain-error:0.011974 \n",
      "[277]\ttrain-error:0.011974 \n",
      "[278]\ttrain-error:0.011974 \n",
      "[279]\ttrain-error:0.011974 \n",
      "[280]\ttrain-error:0.011974 \n",
      "[281]\ttrain-error:0.011974 \n",
      "[282]\ttrain-error:0.011974 \n",
      "[283]\ttrain-error:0.011974 \n",
      "[284]\ttrain-error:0.011974 \n",
      "[285]\ttrain-error:0.011974 \n",
      "[286]\ttrain-error:0.011974 \n",
      "[287]\ttrain-error:0.011974 \n",
      "[288]\ttrain-error:0.011974 \n",
      "[289]\ttrain-error:0.011974 \n",
      "[290]\ttrain-error:0.011974 \n",
      "[291]\ttrain-error:0.011974 \n",
      "[292]\ttrain-error:0.011974 \n",
      "[293]\ttrain-error:0.011974 \n",
      "[294]\ttrain-error:0.011974 \n",
      "[295]\ttrain-error:0.011974 \n",
      "[296]\ttrain-error:0.011974 \n",
      "[297]\ttrain-error:0.011974 \n",
      "[298]\ttrain-error:0.011974 \n",
      "[299]\ttrain-error:0.011974 \n",
      "[300]\ttrain-error:0.011974 \n"
     ]
    },
    {
     "name": "stdout",
     "output_type": "stream",
     "text": [
      "[1] \"Acuracia do Modelo nos dados de treino : 0.982232522209347\"\n"
     ]
    },
    {
     "data": {
      "text/plain": [
       "              \n",
       "rf_treino_pred    0    1\n",
       "             0 1030    1\n",
       "             1   45 1513"
      ]
     },
     "metadata": {},
     "output_type": "display_data"
    },
    {
     "name": "stdout",
     "output_type": "stream",
     "text": [
      "[1] \"Acuracia do Modelo nos dados de teste : 0.566358024691358\"\n"
     ]
    },
    {
     "data": {
      "text/plain": [
       "             \n",
       "rf_teste_pred   0   1\n",
       "            0 193 223\n",
       "            1 339 541"
      ]
     },
     "metadata": {},
     "output_type": "display_data"
    }
   ],
   "source": [
    "#criando modelo com xgboost\n",
    "vars <- c('Arena_Occupation','HomeWinStreak','HomeLossStreak','AwayWinStreak','AwayLossStreak','HomeWinRatio',\n",
    "              'AwayWinRatio','HomeDescanso','AwayDescanso')\n",
    "\n",
    "modelo_xgb <- xgboost(data = as.matrix(df_treino_ab1_norm[vars]),\n",
    "                     label = df_treino_ab1_norm$Home_Win_Label,\n",
    "                     max_depth = 10,\n",
    "                     gamma = 1,\n",
    "                     eta = 1,\n",
    "                     nthread =8,\n",
    "                     nround = 300,\n",
    "                     min_child_weight =0,\n",
    "                     objective = \"binary:logistic\",\n",
    "                     eval_metric = 'error',\n",
    "                     verbosity = 0)\n",
    "\n",
    "#previsoes nos dados de treino\n",
    "rf_treino_pred = predict(modelo_xgb, as.matrix(df_treino_ab1_norm[vars]))\n",
    "rf_treino_pred <- ifelse(rf_treino_pred > 0.4, 1, 0)\n",
    "\n",
    "#Previsoes corretas com dataset de treino\n",
    "print(paste('Acuracia do Modelo nos dados de treino :',mean(rf_treino_pred == df_treino_ab1_norm$Home_Win_Label)))\n",
    "\n",
    "#confusion matrix\n",
    "table(rf_treino_pred, df_treino_ab1_norm$Home_Win_Label)\n",
    "\n",
    "#previsoes nos dados de teste\n",
    "rf_teste_pred = predict(modelo_xgb, as.matrix(df_teste_ab1_norm[vars]))\n",
    "rf_teste_pred <- ifelse(rf_teste_pred > 0.4, 1, 0)\n",
    "\n",
    "#previsoes corretas com dataset de teste\n",
    "print(paste('Acuracia do Modelo nos dados de teste :',mean(rf_teste_pred == df_teste_ab1_norm$Home_Win_Label)))\n",
    "\n",
    "#confusion matrix\n",
    "table(rf_teste_pred, df_teste_ab1_norm$Home_Win_Label)"
   ]
  },
  {
   "cell_type": "markdown",
   "id": "060610cd",
   "metadata": {},
   "source": [
    "O xgboost apresenta um problema maior ainda de overfiting. Mesmo realizando a diminuição da profundidade o modelo nao se ajusta bem, chegando a no maximo uma acuracia de 65% nos dados de treino. O último modelo a ser testado sera o Naive Bayes."
   ]
  },
  {
   "cell_type": "code",
   "execution_count": 145,
   "id": "8288bde0",
   "metadata": {},
   "outputs": [
    {
     "data": {
      "text/plain": [
       "\n",
       "Naive Bayes Classifier for Discrete Predictors\n",
       "\n",
       "Call:\n",
       "naiveBayes.default(x = X, y = Y, laplace = laplace)\n",
       "\n",
       "A-priori probabilities:\n",
       "Y\n",
       "        0         1 \n",
       "0.4152182 0.5847818 \n",
       "\n",
       "Conditional probabilities:\n",
       "   HomeWinRatio\n",
       "Y        [,1]      [,2]\n",
       "  0 0.4667346 0.1726016\n",
       "  1 0.5375041 0.1726497\n",
       "\n",
       "   AwayWinRatio\n",
       "Y        [,1]      [,2]\n",
       "  0 0.5467707 0.1713882\n",
       "  1 0.4828374 0.1665173\n",
       "\n",
       "   HomeWinStreak\n",
       "Y         [,1]      [,2]\n",
       "  0 0.05751026 0.1032278\n",
       "  1 0.08368949 0.1314852\n",
       "\n",
       "   Arena_Occupation\n",
       "Y        [,1]      [,2]\n",
       "  0 0.7392001 0.1286833\n",
       "  1 0.7506753 0.1280134\n"
      ]
     },
     "metadata": {},
     "output_type": "display_data"
    }
   ],
   "source": [
    "nb <- naiveBayes(Home_Win_Label ~ HomeWinRatio + AwayWinRatio + HomeWinStreak + Arena_Occupation,\n",
    "                 data = df_treino_ab1_norm)\n",
    "nb"
   ]
  },
  {
   "cell_type": "code",
   "execution_count": 144,
   "id": "412accdd",
   "metadata": {},
   "outputs": [
    {
     "name": "stdout",
     "output_type": "stream",
     "text": [
      "[1] \"Acuracia do Modelo nos dados de treino : 0.640787949015064\"\n",
      "[1] \"Acuracia do Modelo nos dados de teste : 0.640432098765432\"\n"
     ]
    }
   ],
   "source": [
    "nb_treino_pred = predict(nb, df_treino_ab1_norm)\n",
    "#rf_treino_pred <- ifelse(rf_treino_pred > 0.5, 1, 0)\n",
    "\n",
    "#Previsoes corretas com dataset de treino\n",
    "print(paste('Acuracia do Modelo nos dados de treino :',mean(nb_treino_pred == df_treino_ab1_norm$Home_Win_Label)))\n",
    "\n",
    "#previsoes nos dados de teste\n",
    "nb_teste_pred = predict(nb, df_teste_ab1_norm)\n",
    "#rf_teste_pred <- ifelse(rf_teste_pred > 0.5, 1, 0)\n",
    "\n",
    "#previsoes corretas com dataset de teste\n",
    "print(paste('Acuracia do Modelo nos dados de teste :',mean(nb_teste_pred == df_teste_ab1_norm$Home_Win_Label)))\n",
    "\n",
    "#confusion matrix"
   ]
  },
  {
   "cell_type": "markdown",
   "id": "5bc5681e",
   "metadata": {},
   "source": [
    "A performance do modelo naiveBayes também foi muito parecida com os resultados da regressao logistica e do random forest. Isso pode apontar para a necessidade de mais dados para conseguirmos obter melhores acurácias."
   ]
  },
  {
   "cell_type": "markdown",
   "id": "160c17ce",
   "metadata": {},
   "source": [
    "## 4.2 Modelo Abordagem 2 (Temporada 2020 e 2021 com pandemia e jogos sem torcida)"
   ]
  },
  {
   "cell_type": "code",
   "execution_count": 49,
   "id": "325e14c1",
   "metadata": {},
   "outputs": [
    {
     "data": {
      "text/plain": [
       "\n",
       "Call:\n",
       "glm(formula = Home_Win_Label ~ ., family = binomial(link = \"probit\"), \n",
       "    data = df_treino_ab2_norm)\n",
       "\n",
       "Deviance Residuals: \n",
       "    Min       1Q   Median       3Q      Max  \n",
       "-2.3582  -1.1539   0.7217   1.0698   2.2281  \n",
       "\n",
       "Coefficients:\n",
       "               Estimate Std. Error z value Pr(>|z|)    \n",
       "(Intercept)     0.05763    0.15531   0.371    0.711    \n",
       "HomeWinStreak   0.32562    0.37690   0.864    0.388    \n",
       "HomeLossStreak -0.47110    0.35220  -1.338    0.181    \n",
       "AwayWinStreak   0.32439    0.33487   0.969    0.333    \n",
       "AwayLossStreak  0.38800    0.27060   1.434    0.152    \n",
       "HomeWinRatio    1.43658    0.20116   7.141 9.24e-13 ***\n",
       "AwayWinRatio   -1.38821    0.20176  -6.881 5.96e-12 ***\n",
       "HomeDescanso   -0.11982    0.26307  -0.455    0.649    \n",
       "AwayDescanso   -0.39177    0.39051  -1.003    0.316    \n",
       "Fans_Presence   0.06191    0.06502   0.952    0.341    \n",
       "---\n",
       "Signif. codes:  0 '***' 0.001 '**' 0.01 '*' 0.05 '.' 0.1 ' ' 1\n",
       "\n",
       "(Dispersion parameter for binomial family taken to be 1)\n",
       "\n",
       "    Null deviance: 2501.7  on 1811  degrees of freedom\n",
       "Residual deviance: 2352.2  on 1802  degrees of freedom\n",
       "AIC: 2372.2\n",
       "\n",
       "Number of Fisher Scoring iterations: 4\n"
      ]
     },
     "metadata": {},
     "output_type": "display_data"
    }
   ],
   "source": [
    "#Criando Modelo Base ABORDAGEM 2 - Probit\n",
    "modelo_base <- glm(Home_Win_Label ~ ., \n",
    "                   family = binomial(link=\"probit\"),\n",
    "                   data = df_treino_ab2_norm)\n",
    "\n",
    "\n",
    "summary(modelo_base)"
   ]
  },
  {
   "cell_type": "code",
   "execution_count": 52,
   "id": "b0871b57",
   "metadata": {},
   "outputs": [
    {
     "name": "stdout",
     "output_type": "stream",
     "text": [
      "[1] \"Acuracia do Modelo nos dados de treino : 0.625827814569536\"\n",
      "[1] \"Acuracia do Modelo nos dados de teste : 0.65121412803532\"\n",
      "[1] \"Matriz de confusão:\"\n"
     ]
    },
    {
     "data": {
      "text/plain": [
       "          \n",
       "pred_teste   0   1\n",
       "         0  97  65\n",
       "         1  93 198"
      ]
     },
     "metadata": {},
     "output_type": "display_data"
    }
   ],
   "source": [
    "#Realizando previsoes para avaliar o modelo\n",
    "\n",
    "#Previsoes nos dados de treino\n",
    "pred_train <- predict(modelo_base, df_treino_ab2_norm, type = 'response')\n",
    "pred_train <- ifelse(pred_train > 0.5, 1, 0)\n",
    "\n",
    "#Previsoes corretas com dataset de treino\n",
    "print(paste('Acuracia do Modelo nos dados de treino :',mean(pred_train == df_treino_ab2_norm$Home_Win_Label)))\n",
    "\n",
    "#previsoes com dados de teste\n",
    "pred_teste <- predict(modelo_base, df_teste_ab2_norm, type = 'response')\n",
    "pred_teste <- ifelse(pred_teste > 0.5, 1, 0)\n",
    "\n",
    "#previsoes corretas com dataset de teste\n",
    "print(paste('Acuracia do Modelo nos dados de teste :',mean(pred_teste == df_teste_ab2_norm$Home_Win_Label)))\n",
    "\n",
    "#confusion matrix\n",
    "print('Matriz de confusão:')\n",
    "table(pred_teste,df_teste_ab2_norm$Home_Win_Label)\n"
   ]
  },
  {
   "cell_type": "markdown",
   "id": "96a3a30f",
   "metadata": {},
   "source": [
    "**Analise do modelo base da Abordagem 2:**\n",
    "\n",
    "Assim como na abordagem 1 a grande maioria das variaveis se mostraram nao significativas, porém a variaveis que indica presenca ou nao de fans se mostrou signficativa com impacto positivo sobre as chances de vitoria do time da casa. <br/>\n",
    "\n",
    "Vamos criar um novo modelo, retirando as variaveis nao significativas e a partir do novo modelo poderemos calcular o efeito marginal médio e o efeito marginal na média para mensurar o tamanho do impacto da presença de fans que já verificamos ser positivo.\n"
   ]
  },
  {
   "cell_type": "code",
   "execution_count": 53,
   "id": "f9967600",
   "metadata": {},
   "outputs": [
    {
     "data": {
      "text/plain": [
       "\n",
       "Call:\n",
       "glm(formula = Home_Win_Label ~ HomeWinRatio + AwayWinRatio + \n",
       "    HomeLossStreak + Fans_Presence, family = binomial(link = \"probit\"), \n",
       "    data = df_treino_ab2_norm)\n",
       "\n",
       "Deviance Residuals: \n",
       "    Min       1Q   Median       3Q      Max  \n",
       "-2.3674  -1.1585   0.7386   1.0659   2.2482  \n",
       "\n",
       "Coefficients:\n",
       "               Estimate Std. Error z value Pr(>|z|)    \n",
       "(Intercept)     0.07647    0.14110   0.542    0.588    \n",
       "HomeWinRatio    1.47274    0.19108   7.708 1.28e-14 ***\n",
       "AwayWinRatio   -1.42831    0.17828  -8.012 1.13e-15 ***\n",
       "HomeLossStreak -0.54044    0.33666  -1.605    0.108    \n",
       "Fans_Presence   0.07165    0.06459   1.109    0.267    \n",
       "---\n",
       "Signif. codes:  0 '***' 0.001 '**' 0.01 '*' 0.05 '.' 0.1 ' ' 1\n",
       "\n",
       "(Dispersion parameter for binomial family taken to be 1)\n",
       "\n",
       "    Null deviance: 2501.7  on 1811  degrees of freedom\n",
       "Residual deviance: 2357.6  on 1807  degrees of freedom\n",
       "AIC: 2367.6\n",
       "\n",
       "Number of Fisher Scoring iterations: 4\n"
      ]
     },
     "metadata": {},
     "output_type": "display_data"
    },
    {
     "name": "stdout",
     "output_type": "stream",
     "text": [
      "[1] \"Acuracia do Modelo nos dados de treino : 0.624724061810154\"\n",
      "[1] \"Acuracia do Modelo nos dados de teste : 0.646799116997792\"\n"
     ]
    },
    {
     "data": {
      "text/plain": [
       "          \n",
       "pred_teste   0   1\n",
       "         0  94  64\n",
       "         1  96 199"
      ]
     },
     "metadata": {},
     "output_type": "display_data"
    }
   ],
   "source": [
    "#Retirando as variaveis nao significativas e atualizando o modelo, porem mantendo a variavel fans_presence\n",
    "\n",
    "modelo_base_2 <- glm(Home_Win_Label ~ HomeWinRatio + AwayWinRatio + HomeLossStreak + Fans_Presence, \n",
    "                     family = binomial(link=\"probit\"),\n",
    "                     data = df_treino_ab2_norm)\n",
    "\n",
    "\n",
    "summary(modelo_base_2)\n",
    "\n",
    "#Realizando previsoes para avaliar o modelo\n",
    "\n",
    "#Previsoes nos dados de treino\n",
    "pred_train <- predict(modelo_base_2, df_treino_ab2_norm, type = 'response')\n",
    "pred_train <- ifelse(pred_train > 0.5, 1, 0)\n",
    "\n",
    "#Previsoes corretas com dataset de treino\n",
    "print(paste('Acuracia do Modelo nos dados de treino :',mean(pred_train == df_treino_ab2_norm$Home_Win_Label)))\n",
    "\n",
    "#previsoes com dados de teste\n",
    "pred_teste <- predict(modelo_base_2, df_teste_ab2_norm, type = 'response')\n",
    "pred_teste <- ifelse(pred_teste > 0.5, 1, 0)\n",
    "\n",
    "#previsoes corretas com dataset de teste\n",
    "print(paste('Acuracia do Modelo nos dados de teste :',mean(pred_teste == df_teste_ab2_norm$Home_Win_Label)))\n",
    "\n",
    "#confusion matrix\n",
    "table(pred_teste,df_teste_ab2_norm$Home_Win_Label)"
   ]
  },
  {
   "cell_type": "markdown",
   "id": "3bb4a699",
   "metadata": {},
   "source": [
    "O modelo continuou com baixa acurácia nos dados de teste. Assim, outros algoritmos serão testados para obtermos uma melhor acurácia dos modelos. Serão testados os algoritmos random forest,xgboost e naive bayes."
   ]
  },
  {
   "cell_type": "code",
   "execution_count": 146,
   "id": "5a51cb00",
   "metadata": {},
   "outputs": [
    {
     "data": {
      "text/plain": [
       "\n",
       "Call:\n",
       " randomForest(formula = as.factor(Home_Win_Label) ~ ., data = df_treino_ab2_norm,      ) \n",
       "               Type of random forest: classification\n",
       "                     Number of trees: 500\n",
       "No. of variables tried at each split: 3\n",
       "\n",
       "        OOB estimate of  error rate: 41.17%\n",
       "Confusion matrix:\n",
       "    0   1 class.error\n",
       "0 457 383   0.4559524\n",
       "1 363 609   0.3734568"
      ]
     },
     "metadata": {},
     "output_type": "display_data"
    }
   ],
   "source": [
    "#criação do modelo base de random forest\n",
    "rf <- randomForest(\n",
    "  as.factor(Home_Win_Label) ~ .,\n",
    "  data = df_treino_ab2_norm,\n",
    ")\n",
    "rf"
   ]
  },
  {
   "cell_type": "code",
   "execution_count": 147,
   "id": "9b33497e",
   "metadata": {},
   "outputs": [
    {
     "name": "stdout",
     "output_type": "stream",
     "text": [
      "[1] \"Acuracia do Modelo nos dados de treino : 0.997792494481236\"\n",
      "[1] \"Acuracia do Modelo nos dados de teste : 0.618101545253863\"\n"
     ]
    }
   ],
   "source": [
    "rf_treino_pred = predict(rf, df_treino_ab2_norm)\n",
    "#rf_treino_pred <- ifelse(rf_treino_pred > 0.5, 1, 0)\n",
    "\n",
    "#Previsoes corretas com dataset de treino\n",
    "print(paste('Acuracia do Modelo nos dados de treino :',mean(rf_treino_pred == df_treino_ab2_norm$Home_Win_Label)))\n",
    "\n",
    "#previsoes nos dados de teste\n",
    "rf_teste_pred = predict(rf, df_teste_ab2_norm)\n",
    "#rf_teste_pred <- ifelse(rf_teste_pred > 0.5, 1, 0)\n",
    "\n",
    "#previsoes corretas com dataset de teste\n",
    "print(paste('Acuracia do Modelo nos dados de teste :',mean(rf_teste_pred == df_teste_ab2_norm$Home_Win_Label)))\n"
   ]
  },
  {
   "cell_type": "markdown",
   "id": "e63adf74",
   "metadata": {},
   "source": [
    "Modelo base de random forest apresentou overfitting, assim vamos ajustar os parametros afim de otimizar o modelo"
   ]
  },
  {
   "cell_type": "code",
   "execution_count": 151,
   "id": "3f508b95",
   "metadata": {},
   "outputs": [
    {
     "data": {
      "text/plain": [
       "\n",
       "Call:\n",
       " randomForest(formula = as.factor(Home_Win_Label) ~ ., data = df_treino_ab2_norm,      maxnodes = 30, mtry = 2, ntree = 1000) \n",
       "               Type of random forest: classification\n",
       "                     Number of trees: 1000\n",
       "No. of variables tried at each split: 2\n",
       "\n",
       "        OOB estimate of  error rate: 38.69%\n",
       "Confusion matrix:\n",
       "    0   1 class.error\n",
       "0 421 419   0.4988095\n",
       "1 282 690   0.2901235"
      ]
     },
     "metadata": {},
     "output_type": "display_data"
    }
   ],
   "source": [
    "rf <- randomForest(\n",
    "  as.factor(Home_Win_Label) ~ .,\n",
    "  data = df_treino_ab2_norm,\n",
    "    maxnodes = 30,\n",
    "    mtry = 2,\n",
    "    ntree=1000\n",
    ")\n",
    "rf"
   ]
  },
  {
   "cell_type": "code",
   "execution_count": 152,
   "id": "6d78b5f2",
   "metadata": {},
   "outputs": [
    {
     "name": "stdout",
     "output_type": "stream",
     "text": [
      "[1] \"Acuracia do Modelo nos dados de treino : 0.670529801324503\"\n",
      "[1] \"Acuracia do Modelo nos dados de teste : 0.624724061810154\"\n"
     ]
    }
   ],
   "source": [
    "rf_treino_pred = predict(rf, df_treino_ab2_norm)\n",
    "#rf_treino_pred <- ifelse(rf_treino_pred > 0.5, 1, 0)\n",
    "\n",
    "#Previsoes corretas com dataset de treino\n",
    "print(paste('Acuracia do Modelo nos dados de treino :',mean(rf_treino_pred == df_treino_ab2_norm$Home_Win_Label)))\n",
    "\n",
    "#previsoes nos dados de teste\n",
    "rf_teste_pred = predict(rf, df_teste_ab2_norm)\n",
    "#rf_teste_pred <- ifelse(rf_teste_pred > 0.5, 1, 0)\n",
    "\n",
    "#previsoes corretas com dataset de teste\n",
    "print(paste('Acuracia do Modelo nos dados de teste :',mean(rf_teste_pred == df_teste_ab2_norm$Home_Win_Label)))\n"
   ]
  },
  {
   "cell_type": "markdown",
   "id": "a317354b",
   "metadata": {},
   "source": [
    "O Modelo Random Forest nao apresentou bons resultados de acuracia nos dados de teste, quando corrigido para evitar overfitting. Sua performance foi parecida com os modelos Logit. Iremos testar agora o modelo xgboost, afim de aumentar a acurácia em dados de teste."
   ]
  },
  {
   "cell_type": "code",
   "execution_count": 154,
   "id": "afed9f48",
   "metadata": {},
   "outputs": [
    {
     "name": "stdout",
     "output_type": "stream",
     "text": [
      "[1]\ttrain-error:0.205850 \n",
      "[2]\ttrain-error:0.153422 \n",
      "[3]\ttrain-error:0.120861 \n",
      "[4]\ttrain-error:0.091611 \n",
      "[5]\ttrain-error:0.079470 \n",
      "[6]\ttrain-error:0.077815 \n",
      "[7]\ttrain-error:0.064018 \n",
      "[8]\ttrain-error:0.056843 \n",
      "[9]\ttrain-error:0.056843 \n",
      "[10]\ttrain-error:0.052980 \n",
      "[11]\ttrain-error:0.040839 \n",
      "[12]\ttrain-error:0.036424 \n",
      "[13]\ttrain-error:0.034216 \n",
      "[14]\ttrain-error:0.034768 \n",
      "[15]\ttrain-error:0.032561 \n",
      "[16]\ttrain-error:0.032009 \n",
      "[17]\ttrain-error:0.032009 \n",
      "[18]\ttrain-error:0.032009 \n",
      "[19]\ttrain-error:0.032009 \n",
      "[20]\ttrain-error:0.032009 \n",
      "[21]\ttrain-error:0.032009 \n",
      "[22]\ttrain-error:0.032009 \n",
      "[23]\ttrain-error:0.032009 \n",
      "[24]\ttrain-error:0.032009 \n",
      "[25]\ttrain-error:0.032009 \n",
      "[26]\ttrain-error:0.032009 \n",
      "[27]\ttrain-error:0.032009 \n",
      "[28]\ttrain-error:0.032009 \n",
      "[29]\ttrain-error:0.032009 \n",
      "[30]\ttrain-error:0.032009 \n",
      "[31]\ttrain-error:0.032009 \n",
      "[32]\ttrain-error:0.032009 \n",
      "[33]\ttrain-error:0.032009 \n",
      "[34]\ttrain-error:0.032009 \n",
      "[35]\ttrain-error:0.032009 \n",
      "[36]\ttrain-error:0.032009 \n",
      "[37]\ttrain-error:0.032009 \n",
      "[38]\ttrain-error:0.032009 \n",
      "[39]\ttrain-error:0.032009 \n",
      "[40]\ttrain-error:0.032009 \n",
      "[41]\ttrain-error:0.032009 \n",
      "[42]\ttrain-error:0.032009 \n",
      "[43]\ttrain-error:0.032009 \n",
      "[44]\ttrain-error:0.032009 \n",
      "[45]\ttrain-error:0.032009 \n",
      "[46]\ttrain-error:0.032009 \n",
      "[47]\ttrain-error:0.032009 \n",
      "[48]\ttrain-error:0.032009 \n",
      "[49]\ttrain-error:0.032009 \n",
      "[50]\ttrain-error:0.032009 \n",
      "[51]\ttrain-error:0.032009 \n",
      "[52]\ttrain-error:0.032009 \n",
      "[53]\ttrain-error:0.032009 \n",
      "[54]\ttrain-error:0.032009 \n",
      "[55]\ttrain-error:0.032009 \n",
      "[56]\ttrain-error:0.032009 \n",
      "[57]\ttrain-error:0.032009 \n",
      "[58]\ttrain-error:0.032009 \n",
      "[59]\ttrain-error:0.032009 \n",
      "[60]\ttrain-error:0.032009 \n",
      "[61]\ttrain-error:0.032009 \n",
      "[62]\ttrain-error:0.032009 \n",
      "[63]\ttrain-error:0.032009 \n",
      "[64]\ttrain-error:0.032009 \n",
      "[65]\ttrain-error:0.032009 \n",
      "[66]\ttrain-error:0.032009 \n",
      "[67]\ttrain-error:0.032009 \n",
      "[68]\ttrain-error:0.032009 \n",
      "[69]\ttrain-error:0.032009 \n",
      "[70]\ttrain-error:0.032009 \n",
      "[71]\ttrain-error:0.032009 \n",
      "[72]\ttrain-error:0.032009 \n",
      "[73]\ttrain-error:0.032009 \n",
      "[74]\ttrain-error:0.032009 \n",
      "[75]\ttrain-error:0.032009 \n",
      "[76]\ttrain-error:0.032009 \n",
      "[77]\ttrain-error:0.032009 \n",
      "[78]\ttrain-error:0.032009 \n",
      "[79]\ttrain-error:0.032009 \n",
      "[80]\ttrain-error:0.032009 \n",
      "[81]\ttrain-error:0.032009 \n",
      "[82]\ttrain-error:0.032009 \n",
      "[83]\ttrain-error:0.032009 \n",
      "[84]\ttrain-error:0.032009 \n",
      "[85]\ttrain-error:0.032009 \n",
      "[86]\ttrain-error:0.032009 \n",
      "[87]\ttrain-error:0.032009 \n",
      "[88]\ttrain-error:0.032009 \n",
      "[89]\ttrain-error:0.032009 \n",
      "[90]\ttrain-error:0.032009 \n",
      "[91]\ttrain-error:0.032009 \n",
      "[92]\ttrain-error:0.032009 \n",
      "[93]\ttrain-error:0.032009 \n",
      "[94]\ttrain-error:0.032009 \n",
      "[95]\ttrain-error:0.032009 \n",
      "[96]\ttrain-error:0.032009 \n",
      "[97]\ttrain-error:0.032009 \n",
      "[98]\ttrain-error:0.032009 \n",
      "[99]\ttrain-error:0.032009 \n",
      "[100]\ttrain-error:0.032009 \n",
      "[101]\ttrain-error:0.032009 \n",
      "[102]\ttrain-error:0.032009 \n",
      "[103]\ttrain-error:0.032009 \n",
      "[104]\ttrain-error:0.032009 \n",
      "[105]\ttrain-error:0.032009 \n",
      "[106]\ttrain-error:0.032009 \n",
      "[107]\ttrain-error:0.032009 \n",
      "[108]\ttrain-error:0.032009 \n",
      "[109]\ttrain-error:0.032009 \n",
      "[110]\ttrain-error:0.032009 \n",
      "[111]\ttrain-error:0.032009 \n",
      "[112]\ttrain-error:0.032009 \n",
      "[113]\ttrain-error:0.032009 \n",
      "[114]\ttrain-error:0.032009 \n",
      "[115]\ttrain-error:0.032009 \n",
      "[116]\ttrain-error:0.032009 \n",
      "[117]\ttrain-error:0.032009 \n",
      "[118]\ttrain-error:0.032009 \n",
      "[119]\ttrain-error:0.032009 \n",
      "[120]\ttrain-error:0.032009 \n",
      "[121]\ttrain-error:0.032009 \n",
      "[122]\ttrain-error:0.032009 \n",
      "[123]\ttrain-error:0.032009 \n",
      "[124]\ttrain-error:0.032009 \n",
      "[125]\ttrain-error:0.032009 \n",
      "[126]\ttrain-error:0.032009 \n",
      "[127]\ttrain-error:0.032009 \n",
      "[128]\ttrain-error:0.032009 \n",
      "[129]\ttrain-error:0.032009 \n",
      "[130]\ttrain-error:0.032009 \n",
      "[131]\ttrain-error:0.032009 \n",
      "[132]\ttrain-error:0.032009 \n",
      "[133]\ttrain-error:0.032009 \n",
      "[134]\ttrain-error:0.032009 \n",
      "[135]\ttrain-error:0.032009 \n",
      "[136]\ttrain-error:0.032009 \n",
      "[137]\ttrain-error:0.032009 \n",
      "[138]\ttrain-error:0.032009 \n",
      "[139]\ttrain-error:0.032009 \n",
      "[140]\ttrain-error:0.032009 \n",
      "[141]\ttrain-error:0.032009 \n",
      "[142]\ttrain-error:0.032009 \n",
      "[143]\ttrain-error:0.032009 \n",
      "[144]\ttrain-error:0.032009 \n",
      "[145]\ttrain-error:0.032009 \n",
      "[146]\ttrain-error:0.032009 \n",
      "[147]\ttrain-error:0.032009 \n",
      "[148]\ttrain-error:0.032009 \n",
      "[149]\ttrain-error:0.032009 \n",
      "[150]\ttrain-error:0.032009 \n",
      "[151]\ttrain-error:0.032009 \n",
      "[152]\ttrain-error:0.032009 \n",
      "[153]\ttrain-error:0.032009 \n",
      "[154]\ttrain-error:0.032009 \n",
      "[155]\ttrain-error:0.032009 \n",
      "[156]\ttrain-error:0.032009 \n",
      "[157]\ttrain-error:0.032009 \n",
      "[158]\ttrain-error:0.032009 \n",
      "[159]\ttrain-error:0.032009 \n",
      "[160]\ttrain-error:0.032009 \n",
      "[161]\ttrain-error:0.032009 \n",
      "[162]\ttrain-error:0.032009 \n",
      "[163]\ttrain-error:0.032009 \n",
      "[164]\ttrain-error:0.032009 \n",
      "[165]\ttrain-error:0.032009 \n",
      "[166]\ttrain-error:0.032009 \n",
      "[167]\ttrain-error:0.032009 \n",
      "[168]\ttrain-error:0.032009 \n",
      "[169]\ttrain-error:0.032009 \n",
      "[170]\ttrain-error:0.032009 \n",
      "[171]\ttrain-error:0.032009 \n",
      "[172]\ttrain-error:0.032009 \n",
      "[173]\ttrain-error:0.032009 \n",
      "[174]\ttrain-error:0.032009 \n",
      "[175]\ttrain-error:0.032009 \n",
      "[176]\ttrain-error:0.032009 \n",
      "[177]\ttrain-error:0.032009 \n",
      "[178]\ttrain-error:0.032009 \n",
      "[179]\ttrain-error:0.032009 \n",
      "[180]\ttrain-error:0.032009 \n",
      "[181]\ttrain-error:0.032009 \n",
      "[182]\ttrain-error:0.032009 \n",
      "[183]\ttrain-error:0.032009 \n",
      "[184]\ttrain-error:0.032009 \n",
      "[185]\ttrain-error:0.032009 \n",
      "[186]\ttrain-error:0.032009 \n",
      "[187]\ttrain-error:0.032009 \n",
      "[188]\ttrain-error:0.032009 \n",
      "[189]\ttrain-error:0.032009 \n",
      "[190]\ttrain-error:0.032009 \n",
      "[191]\ttrain-error:0.032009 \n",
      "[192]\ttrain-error:0.032009 \n",
      "[193]\ttrain-error:0.032009 \n",
      "[194]\ttrain-error:0.032009 \n",
      "[195]\ttrain-error:0.032009 \n",
      "[196]\ttrain-error:0.032009 \n",
      "[197]\ttrain-error:0.032009 \n",
      "[198]\ttrain-error:0.032009 \n",
      "[199]\ttrain-error:0.032009 \n",
      "[200]\ttrain-error:0.032009 \n",
      "[201]\ttrain-error:0.032009 \n",
      "[202]\ttrain-error:0.032009 \n",
      "[203]\ttrain-error:0.032009 \n",
      "[204]\ttrain-error:0.032009 \n",
      "[205]\ttrain-error:0.032009 \n",
      "[206]\ttrain-error:0.032009 \n",
      "[207]\ttrain-error:0.032009 \n",
      "[208]\ttrain-error:0.032009 \n",
      "[209]\ttrain-error:0.032009 \n",
      "[210]\ttrain-error:0.032009 \n",
      "[211]\ttrain-error:0.032009 \n",
      "[212]\ttrain-error:0.032009 \n",
      "[213]\ttrain-error:0.032009 \n",
      "[214]\ttrain-error:0.032009 \n",
      "[215]\ttrain-error:0.032009 \n",
      "[216]\ttrain-error:0.032009 \n",
      "[217]\ttrain-error:0.032009 \n",
      "[218]\ttrain-error:0.032009 \n",
      "[219]\ttrain-error:0.032009 \n",
      "[220]\ttrain-error:0.032009 \n",
      "[221]\ttrain-error:0.032009 \n",
      "[222]\ttrain-error:0.032009 \n",
      "[223]\ttrain-error:0.032009 \n",
      "[224]\ttrain-error:0.032009 \n",
      "[225]\ttrain-error:0.032009 \n",
      "[226]\ttrain-error:0.032009 \n",
      "[227]\ttrain-error:0.032009 \n",
      "[228]\ttrain-error:0.032009 \n",
      "[229]\ttrain-error:0.032009 \n",
      "[230]\ttrain-error:0.032009 \n",
      "[231]\ttrain-error:0.032009 \n",
      "[232]\ttrain-error:0.032009 \n",
      "[233]\ttrain-error:0.032009 \n",
      "[234]\ttrain-error:0.032009 \n",
      "[235]\ttrain-error:0.032009 \n",
      "[236]\ttrain-error:0.032009 \n",
      "[237]\ttrain-error:0.032009 \n",
      "[238]\ttrain-error:0.032009 \n",
      "[239]\ttrain-error:0.032009 \n",
      "[240]\ttrain-error:0.032009 \n",
      "[241]\ttrain-error:0.032009 \n",
      "[242]\ttrain-error:0.032009 \n",
      "[243]\ttrain-error:0.032009 \n",
      "[244]\ttrain-error:0.032009 \n",
      "[245]\ttrain-error:0.032009 \n",
      "[246]\ttrain-error:0.032009 \n",
      "[247]\ttrain-error:0.032009 \n",
      "[248]\ttrain-error:0.032009 \n",
      "[249]\ttrain-error:0.032009 \n",
      "[250]\ttrain-error:0.032009 \n",
      "[251]\ttrain-error:0.032009 \n",
      "[252]\ttrain-error:0.032009 \n",
      "[253]\ttrain-error:0.032009 \n",
      "[254]\ttrain-error:0.032009 \n",
      "[255]\ttrain-error:0.032009 \n",
      "[256]\ttrain-error:0.032009 \n",
      "[257]\ttrain-error:0.032009 \n",
      "[258]\ttrain-error:0.032009 \n",
      "[259]\ttrain-error:0.032009 \n",
      "[260]\ttrain-error:0.032009 \n",
      "[261]\ttrain-error:0.032009 \n",
      "[262]\ttrain-error:0.032009 \n",
      "[263]\ttrain-error:0.032009 \n",
      "[264]\ttrain-error:0.032009 \n",
      "[265]\ttrain-error:0.032009 \n",
      "[266]\ttrain-error:0.032009 \n",
      "[267]\ttrain-error:0.032009 \n",
      "[268]\ttrain-error:0.032009 \n",
      "[269]\ttrain-error:0.032009 \n",
      "[270]\ttrain-error:0.032009 \n",
      "[271]\ttrain-error:0.032009 \n",
      "[272]\ttrain-error:0.032009 \n",
      "[273]\ttrain-error:0.032009 \n",
      "[274]\ttrain-error:0.032009 \n",
      "[275]\ttrain-error:0.032009 \n",
      "[276]\ttrain-error:0.032009 \n",
      "[277]\ttrain-error:0.032009 \n",
      "[278]\ttrain-error:0.032009 \n",
      "[279]\ttrain-error:0.032009 \n",
      "[280]\ttrain-error:0.032009 \n",
      "[281]\ttrain-error:0.032009 \n",
      "[282]\ttrain-error:0.032009 \n",
      "[283]\ttrain-error:0.032009 \n",
      "[284]\ttrain-error:0.032009 \n",
      "[285]\ttrain-error:0.032009 \n",
      "[286]\ttrain-error:0.032009 \n",
      "[287]\ttrain-error:0.032009 \n",
      "[288]\ttrain-error:0.032009 \n",
      "[289]\ttrain-error:0.032009 \n",
      "[290]\ttrain-error:0.032009 \n",
      "[291]\ttrain-error:0.032009 \n",
      "[292]\ttrain-error:0.032009 \n",
      "[293]\ttrain-error:0.032009 \n",
      "[294]\ttrain-error:0.032009 \n",
      "[295]\ttrain-error:0.032009 \n",
      "[296]\ttrain-error:0.032009 \n",
      "[297]\ttrain-error:0.032009 \n",
      "[298]\ttrain-error:0.032009 \n",
      "[299]\ttrain-error:0.032009 \n",
      "[300]\ttrain-error:0.032009 \n"
     ]
    },
    {
     "name": "stdout",
     "output_type": "stream",
     "text": [
      "[1] \"Acuracia do Modelo nos dados de treino : 0.953090507726269\"\n"
     ]
    },
    {
     "data": {
      "text/plain": [
       "              \n",
       "rf_treino_pred   0   1\n",
       "             0 763   8\n",
       "             1  77 964"
      ]
     },
     "metadata": {},
     "output_type": "display_data"
    },
    {
     "name": "stdout",
     "output_type": "stream",
     "text": [
      "[1] \"Acuracia do Modelo nos dados de teste : 0.576158940397351\"\n"
     ]
    },
    {
     "data": {
      "text/plain": [
       "             \n",
       "rf_teste_pred   0   1\n",
       "            0  92  96\n",
       "            1  96 169"
      ]
     },
     "metadata": {},
     "output_type": "display_data"
    }
   ],
   "source": [
    "#criando modelo com xgboost\n",
    "vars <- c('HomeWinStreak','HomeLossStreak','AwayWinStreak','AwayLossStreak','HomeWinRatio',\n",
    "              'AwayWinRatio','HomeDescanso','AwayDescanso')\n",
    "\n",
    "modelo_xgb <- xgboost(data = as.matrix(df_treino_ab2_norm[vars]),\n",
    "                     label = df_treino_ab2_norm$Home_Win_Label,\n",
    "                     max_depth = 10,\n",
    "                     gamma = 1,\n",
    "                     eta = 1,\n",
    "                     nthread =8,\n",
    "                     nround = 300,\n",
    "                     min_child_weight =0,\n",
    "                     objective = \"binary:logistic\",\n",
    "                     eval_metric = 'error',\n",
    "                     verbosity = 0)\n",
    "\n",
    "#previsoes nos dados de treino\n",
    "rf_treino_pred = predict(modelo_xgb, as.matrix(df_treino_ab2_norm[vars]))\n",
    "rf_treino_pred <- ifelse(rf_treino_pred > 0.4, 1, 0)\n",
    "\n",
    "#Previsoes corretas com dataset de treino\n",
    "print(paste('Acuracia do Modelo nos dados de treino :',mean(rf_treino_pred == df_treino_ab2_norm$Home_Win_Label)))\n",
    "\n",
    "#confusion matrix\n",
    "table(rf_treino_pred, df_treino_ab2_norm$Home_Win_Label)\n",
    "\n",
    "#previsoes nos dados de teste\n",
    "rf_teste_pred = predict(modelo_xgb, as.matrix(df_teste_ab2_norm[vars]))\n",
    "rf_teste_pred <- ifelse(rf_teste_pred > 0.4, 1, 0)\n",
    "\n",
    "#previsoes corretas com dataset de teste\n",
    "print(paste('Acuracia do Modelo nos dados de teste :',mean(rf_teste_pred == df_teste_ab2_norm$Home_Win_Label)))\n",
    "\n",
    "#confusion matrix\n",
    "table(rf_teste_pred, df_teste_ab2_norm$Home_Win_Label)"
   ]
  },
  {
   "cell_type": "markdown",
   "id": "8c680643",
   "metadata": {},
   "source": [
    "O xgboost apresenta um problema maior ainda de overfitting. O último modelo a ser testado sera o Naive Bayes."
   ]
  },
  {
   "cell_type": "code",
   "execution_count": 156,
   "id": "fc634ae7",
   "metadata": {},
   "outputs": [
    {
     "data": {
      "text/plain": [
       "\n",
       "Naive Bayes Classifier for Discrete Predictors\n",
       "\n",
       "Call:\n",
       "naiveBayes.default(x = X, y = Y, laplace = laplace)\n",
       "\n",
       "A-priori probabilities:\n",
       "Y\n",
       "        0         1 \n",
       "0.4635762 0.5364238 \n",
       "\n",
       "Conditional probabilities:\n",
       "   HomeWinRatio\n",
       "Y        [,1]      [,2]\n",
       "  0 0.4691878 0.1742839\n",
       "  1 0.5366419 0.1731330\n",
       "\n",
       "   AwayWinRatio\n",
       "Y        [,1]      [,2]\n",
       "  0 0.5507918 0.1736113\n",
       "  1 0.4855853 0.1729543\n",
       "\n",
       "   HomeWinStreak\n",
       "Y         [,1]       [,2]\n",
       "  0 0.04973545 0.08782599\n",
       "  1 0.07653178 0.11474811\n",
       "\n",
       "   Fans_Presence\n",
       "Y        [,1]      [,2]\n",
       "  0 0.6595238 0.4741517\n",
       "  1 0.7098765 0.4540528\n"
      ]
     },
     "metadata": {},
     "output_type": "display_data"
    }
   ],
   "source": [
    "nb <- naiveBayes(Home_Win_Label ~ HomeWinRatio + AwayWinRatio + HomeWinStreak + Fans_Presence,\n",
    "                 data = df_treino_ab2_norm)\n",
    "nb"
   ]
  },
  {
   "cell_type": "code",
   "execution_count": 157,
   "id": "6f886dd2",
   "metadata": {},
   "outputs": [
    {
     "name": "stdout",
     "output_type": "stream",
     "text": [
      "[1] \"Acuracia do Modelo nos dados de treino : 0.614238410596026\"\n",
      "[1] \"Acuracia do Modelo nos dados de teste : 0.589403973509934\"\n"
     ]
    }
   ],
   "source": [
    "nb_treino_pred = predict(nb, df_treino_ab2_norm)\n",
    "#rf_treino_pred <- ifelse(rf_treino_pred > 0.5, 1, 0)\n",
    "\n",
    "#Previsoes corretas com dataset de treino\n",
    "print(paste('Acuracia do Modelo nos dados de treino :',mean(nb_treino_pred == df_treino_ab2_norm$Home_Win_Label)))\n",
    "\n",
    "#previsoes nos dados de teste\n",
    "nb_teste_pred = predict(nb, df_teste_ab2_norm)\n",
    "#rf_teste_pred <- ifelse(rf_teste_pred > 0.5, 1, 0)\n",
    "\n",
    "#previsoes corretas com dataset de teste\n",
    "print(paste('Acuracia do Modelo nos dados de teste :',mean(nb_teste_pred == df_teste_ab2_norm$Home_Win_Label)))\n",
    "\n",
    "#confusion matrix"
   ]
  },
  {
   "cell_type": "markdown",
   "id": "9789f2d9",
   "metadata": {},
   "source": [
    "A performance do modelo naiveBayes também foi muito parecida com os resultados da regressao logistica e do random forest. Isso pode apontar para a necessidade de mais dados para conseguirmos obter melhores acurácias. Os resultados da abordagem dois foram muito parecidos com os da abordagem 1. De todos os algoritmos testado o que obteve melhor performance foi a regressão logística. Poderíamos entao utilizar esses modelos para tentar identificar se há um impacto positivo na presença de torcida."
   ]
  },
  {
   "cell_type": "code",
   "execution_count": null,
   "id": "25f2cece",
   "metadata": {},
   "outputs": [],
   "source": []
  }
 ],
 "metadata": {
  "kernelspec": {
   "display_name": "r4",
   "language": "R",
   "name": "r4-base"
  },
  "language_info": {
   "codemirror_mode": "r",
   "file_extension": ".r",
   "mimetype": "text/x-r-source",
   "name": "R",
   "pygments_lexer": "r",
   "version": "4.1.3"
  }
 },
 "nbformat": 4,
 "nbformat_minor": 5
}
